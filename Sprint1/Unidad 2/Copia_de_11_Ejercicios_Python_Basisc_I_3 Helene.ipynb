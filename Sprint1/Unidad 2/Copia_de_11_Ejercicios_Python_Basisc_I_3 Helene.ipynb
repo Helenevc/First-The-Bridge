{
  "cells": [
    {
      "cell_type": "markdown",
      "metadata": {
        "id": "2mjFc_azVTTE"
      },
      "source": [
        "![TheBridge_logo_RGB_color.jpg](attachment:TheBridge_logo_RGB_color.jpg)"
      ]
    },
    {
      "cell_type": "markdown",
      "metadata": {
        "id": "XK0jPTt8VTTG"
      },
      "source": [
        "![ejercicios.png](attachment:ejercicios.png)"
      ]
    },
    {
      "cell_type": "markdown",
      "metadata": {
        "id": "LSZpoX5aVTTG"
      },
      "source": [
        "## EJERCICIOS PYTHON BASICO 3:\n",
        "## Operaciones matemáticas, comparación y booleanas"
      ]
    },
    {
      "cell_type": "markdown",
      "metadata": {
        "id": "io9KOauaVTTH"
      },
      "source": [
        "Completa los siguiente ejercicios, la solución completa a los mismos se publicarán en el repo del curso a lo largo del sprint. En algunos ejercicios se muestra la solución final, para que puedas comprobar que lo has hecho bien, pero lo importante es el código que generes. ¡Vaaamos, a ello...!"
      ]
    },
    {
      "cell_type": "markdown",
      "metadata": {
        "id": "Fr7vODVqVTTI"
      },
      "source": [
        "![ejercicio.png](attachment:ejercicio.png)\n",
        "\n",
        "\n",
        "## Ejercicio 1\n",
        "Tenemos las siguientes variables:\n",
        "\n",
        "```Python\n",
        "A = 4\n",
        "B = \"Text\"\n",
        "C = 4.1\n",
        "```\n",
        "\n",
        "Comprueba:\n",
        "1. Si A y B son equivalentes\n",
        "2. Si A y C NO son equivalentes\n",
        "3. Si A es mayor que C\n",
        "4. Si C es menor o igual que A\n",
        "5. Si B NO es equivalente a C"
      ]
    },
    {
      "cell_type": "code",
      "execution_count": null,
      "metadata": {
        "colab": {
          "base_uri": "https://localhost:8080/"
        },
        "id": "n8cu9l1xVTTI",
        "outputId": "8a66aa77-0aad-4bf5-b3e4-a27a1d2f662c"
      },
      "outputs": [
        {
          "output_type": "stream",
          "name": "stdout",
          "text": [
            "False\n",
            "True\n",
            "False\n",
            "False\n",
            "True\n"
          ]
        }
      ],
      "source": [
        "A = 4\n",
        "B = \"Text\"\n",
        "C = 4.1\n",
        "print(A == B)\n",
        "print(A != C)\n",
        "print(A>C)\n",
        "print(C<=A)\n",
        "print(B!=C)"
      ]
    },
    {
      "cell_type": "markdown",
      "metadata": {
        "id": "SEwvQ5HHVTTJ"
      },
      "source": [
        "![ejercicio.png](attachment:ejercicio.png)\n",
        "\n",
        "## Ejercicio 2\n",
        "Crea un programa donde se recojan dos inputs del usuario, y el output del programa sea si esos inputs son iguales o no"
      ]
    },
    {
      "cell_type": "code",
      "execution_count": null,
      "metadata": {
        "colab": {
          "base_uri": "https://localhost:8080/"
        },
        "id": "jxzXC92MVTTK",
        "outputId": "4a46ec66-3536-488f-a9a2-c456910b310b"
      },
      "outputs": [
        {
          "output_type": "stream",
          "name": "stdout",
          "text": [
            "donde vives?barcelona\n",
            "donde trabajas?badalona\n",
            "False\n"
          ]
        }
      ],
      "source": [
        "ciudad_domicilio = input(\"donde vives?\")\n",
        "ciudad_trabajo = input(\"donde trabajas?\")\n",
        "resultado = (ciudad_domicilio == ciudad_trabajo)\n",
        "print(resultado)"
      ]
    },
    {
      "cell_type": "markdown",
      "metadata": {
        "id": "z8etVggtVTTL"
      },
      "source": [
        "![ejercicio.png](attachment:ejercicio.png)\n",
        "\n",
        "## Ejercicio 3\n",
        "Mismo programa que en 2, pero en esta ocasión tienen que ser tres inputs y dos salidas. Una de las salidas que nos indique si todos son iguales, y la otra si al menos dos inputs sí que lo son"
      ]
    },
    {
      "cell_type": "code",
      "execution_count": null,
      "metadata": {
        "id": "4xj41dujVTTQ",
        "outputId": "7d48871f-cc90-4a5c-a3ff-f7ac3364af9e",
        "colab": {
          "base_uri": "https://localhost:8080/"
        }
      },
      "outputs": [
        {
          "output_type": "stream",
          "name": "stdout",
          "text": [
            "ciudad donde vives?berlin\n",
            "ciudad donde trabajas?paris\n",
            "ciudad donde naciste?paris\n",
            "False\n"
          ]
        }
      ],
      "source": [
        "ciudad_domicilio = input(\"ciudad donde vives?\")\n",
        "ciudad_trabajo = input(\"ciudad donde trabajas?\")\n",
        "ciudad_nacimiento = input(\"ciudad donde naciste?\")\n",
        "if(ciudad_domicilio == ciudad_trabajo == ciudad_nacimiento):\n",
        "  print(True)\n",
        "if(ciudad_domicilio == ciudad_nacimiento and ciudad_domicilio == ciudad_trabajo):\n",
        "  print(True)\n",
        "else:\n",
        "    print(False)"
      ]
    },
    {
      "cell_type": "markdown",
      "metadata": {
        "id": "ggmSL1JAVTTR"
      },
      "source": [
        "![ejercicio.png](attachment:ejercicio.png)\n",
        "\n",
        "## Ejercicio 4\n",
        "Razona sin ejecutar código el output que obtendremos de las siguientes sentencias\n",
        "1. True and True and False # False\n",
        "2. not ((True or False) and (True or False)) #False\n",
        "3. (False or False or False or True) and False #True\n",
        "4. not False and True and not True #True"
      ]
    },
    {
      "cell_type": "markdown",
      "metadata": {
        "id": "55D-CbJNVTTS"
      },
      "source": [
        "1."
      ]
    }
  ],
  "metadata": {
    "kernelspec": {
      "display_name": "Curso_Online_DATA",
      "language": "python",
      "name": "python3"
    },
    "language_info": {
      "codemirror_mode": {
        "name": "ipython",
        "version": 3
      },
      "file_extension": ".py",
      "mimetype": "text/x-python",
      "name": "python",
      "nbconvert_exporter": "python",
      "pygments_lexer": "ipython3",
      "version": "3.11.5"
    },
    "orig_nbformat": 4,
    "colab": {
      "provenance": []
    }
  },
  "nbformat": 4,
  "nbformat_minor": 0
}