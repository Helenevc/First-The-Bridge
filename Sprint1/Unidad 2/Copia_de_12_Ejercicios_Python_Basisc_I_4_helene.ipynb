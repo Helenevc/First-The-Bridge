{
  "cells": [
    {
      "cell_type": "markdown",
      "metadata": {
        "id": "XPwb3ttyT8Xe"
      },
      "source": [
        "![TheBridge_logo_RGB_color.jpg](attachment:TheBridge_logo_RGB_color.jpg)"
      ]
    },
    {
      "cell_type": "markdown",
      "metadata": {
        "id": "hilQ4qQBT8Xf"
      },
      "source": [
        "![ejercicios.png](attachment:ejercicios.png)"
      ]
    },
    {
      "cell_type": "markdown",
      "metadata": {
        "id": "FXIclbgRT8Xf"
      },
      "source": [
        "## EJERCICIOS PYTHON BASICO 4:\n",
        "## Funciones, métodos, listas"
      ]
    },
    {
      "cell_type": "markdown",
      "metadata": {
        "id": "6Ao-s8dxT8Xg"
      },
      "source": [
        "Completa los siguiente ejercicios, la solución completa a los mismos se publicarán en el repo del curso a lo largo del sprint. En algunos ejercicios se muestra la solución final, para que puedas comprobar que lo has hecho bien, pero lo importante es el código que generes. ¡Vaaamos, a ello...!"
      ]
    },
    {
      "cell_type": "markdown",
      "metadata": {
        "id": "ks2tHu-eT8Xg"
      },
      "source": [
        "![ejercicio.png](attachment:ejercicio.png)\n",
        "\n",
        "## Ejercicio 1\n",
        "Para este ejercicio vamos a poner en práctica [las funciones built in](https://docs.python.org/3/library/functions.html).\n",
        "\n",
        "1. Calcula el máximo de la lista: [4, 6, 8, -1]\n",
        "2. Suma todos los elementos de la lista anterior\n",
        "3. Redondea este float a 3 dígitos decimales: 63.451256965\n",
        "4. Valor absoluto de: -74"
      ]
    },
    {
      "cell_type": "code",
      "execution_count": null,
      "metadata": {
        "colab": {
          "base_uri": "https://localhost:8080/"
        },
        "id": "zqvkWaguT8Xh",
        "outputId": "a41e6d0a-a067-4124-c887-2f96c2e4345c"
      },
      "outputs": [
        {
          "output_type": "stream",
          "name": "stdout",
          "text": [
            "8\n"
          ]
        }
      ],
      "source": [
        "lista=[4,6,8,-1]\n",
        "print(max(lista))"
      ]
    },
    {
      "cell_type": "code",
      "source": [
        "print(sum(lista))"
      ],
      "metadata": {
        "colab": {
          "base_uri": "https://localhost:8080/"
        },
        "id": "cQ4Yh4kBUV36",
        "outputId": "99fffd7d-14a5-49b8-8744-0f7f599d1512"
      },
      "execution_count": null,
      "outputs": [
        {
          "output_type": "stream",
          "name": "stdout",
          "text": [
            "17\n"
          ]
        }
      ]
    },
    {
      "cell_type": "code",
      "source": [
        "real_float = 63.451256965\n",
        "print(round(real_float,3))"
      ],
      "metadata": {
        "colab": {
          "base_uri": "https://localhost:8080/"
        },
        "id": "xmzWhBwXUhZD",
        "outputId": "a902a555-2ad1-41af-ef3d-ff9a8e169ded"
      },
      "execution_count": null,
      "outputs": [
        {
          "output_type": "stream",
          "name": "stdout",
          "text": [
            "63.451\n"
          ]
        }
      ]
    },
    {
      "cell_type": "code",
      "source": [
        "valor = -74\n",
        "print(abs(valor))"
      ],
      "metadata": {
        "colab": {
          "base_uri": "https://localhost:8080/"
        },
        "id": "3y7dZpXBUvaz",
        "outputId": "328aead7-e619-4dd2-d3de-e7c49ff15485"
      },
      "execution_count": null,
      "outputs": [
        {
          "output_type": "stream",
          "name": "stdout",
          "text": [
            "74\n"
          ]
        }
      ]
    },
    {
      "cell_type": "markdown",
      "metadata": {
        "id": "dbeXFeG6T8Xh"
      },
      "source": [
        "![ejercicio.png](attachment:ejercicio.png)\n",
        "\n",
        "## Ejercicio 2\n",
        "Para el siguiente string se pide imprimir por pantalla los siguientes casos\n",
        "\n",
        "    \"En un lugar de la Mancha, de cuyo nombre no quiero acordarme.\"\n",
        "\n",
        "1. Pásalo todo a mayúsculas\n",
        "2. Pásalo todo a minúsculas\n",
        "3. Solo la primera letra de cada palabra en mayúscula, el resto en minúscula\n",
        "4. Crea una lista dividiéndolo por sus espacios\n",
        "5. Sustituye las comas `,` por puntos y comas `;`\n",
        "6. Elimina las `a` minúsculas"
      ]
    },
    {
      "cell_type": "code",
      "source": [
        "print(\"En un lugar de la Mancha, de cuyo nombre no quiero acordarme.\".upper())"
      ],
      "metadata": {
        "colab": {
          "base_uri": "https://localhost:8080/"
        },
        "id": "0H_PVuOxUeMT",
        "outputId": "78d6836c-a262-4449-ba01-2a202d7361e8"
      },
      "execution_count": null,
      "outputs": [
        {
          "output_type": "stream",
          "name": "stdout",
          "text": [
            "EN UN LUGAR DE LA MANCHA, DE CUYO NOMBRE NO QUIERO ACORDARME.\n"
          ]
        }
      ]
    },
    {
      "cell_type": "code",
      "source": [
        "print(\"En un lugar de la Mancha, de cuyo nombre no quiero acordarme.\".lower())"
      ],
      "metadata": {
        "colab": {
          "base_uri": "https://localhost:8080/"
        },
        "id": "lCaVwB6pUfMN",
        "outputId": "48a206f0-1926-4ee7-8c87-4eaa005ccd55"
      },
      "execution_count": null,
      "outputs": [
        {
          "output_type": "stream",
          "name": "stdout",
          "text": [
            "en un lugar de la mancha, de cuyo nombre no quiero acordarme.\n"
          ]
        }
      ]
    },
    {
      "cell_type": "code",
      "execution_count": null,
      "metadata": {
        "colab": {
          "base_uri": "https://localhost:8080/"
        },
        "id": "iMh_CRl8T8Xh",
        "outputId": "6acd306a-b8d5-47da-d80b-143f5ee7cd53"
      },
      "outputs": [
        {
          "output_type": "stream",
          "name": "stdout",
          "text": [
            "En Un Lugar De La Mancha, De Cuyo Nombre No Quiero Acordarme.\n"
          ]
        }
      ],
      "source": [
        "print(\"En un lugar de la Mancha, de cuyo nombre no quiero acordarme.\".title())"
      ]
    },
    {
      "cell_type": "code",
      "source": [
        "print(\"En un lugar de la Mancha, de cuyo nombre no quiero acordarme.\".split(\" \"))"
      ],
      "metadata": {
        "colab": {
          "base_uri": "https://localhost:8080/"
        },
        "id": "MhB26BQPWyce",
        "outputId": "6c840a1a-1254-47fb-c304-bf49a1a39072"
      },
      "execution_count": null,
      "outputs": [
        {
          "output_type": "stream",
          "name": "stdout",
          "text": [
            "['En', 'un', 'lugar', 'de', 'la', 'Mancha,', 'de', 'cuyo', 'nombre', 'no', 'quiero', 'acordarme.']\n"
          ]
        }
      ]
    },
    {
      "cell_type": "code",
      "source": [
        "print(\"En un lugar de la Mancha, de cuyo nombre no quiero acordarme.\".replace(\",\",\";\"))"
      ],
      "metadata": {
        "colab": {
          "base_uri": "https://localhost:8080/"
        },
        "id": "mmBwAOypXMqr",
        "outputId": "cc51a4de-b3b0-434d-9de6-3981f583993a"
      },
      "execution_count": null,
      "outputs": [
        {
          "output_type": "stream",
          "name": "stdout",
          "text": [
            "En un lugar de la Mancha; de cuyo nombre no quiero acordarme.\n"
          ]
        }
      ]
    },
    {
      "cell_type": "code",
      "source": [
        "print(\"En un lugar de la Mancha, de cuyo nombre no quiero acordarme.\".replace(\"a\",\" \"))"
      ],
      "metadata": {
        "colab": {
          "base_uri": "https://localhost:8080/"
        },
        "id": "WBuPmJw1XUBL",
        "outputId": "35525cfc-bd5b-4cdb-c43d-9d2ad53e203b"
      },
      "execution_count": null,
      "outputs": [
        {
          "output_type": "stream",
          "name": "stdout",
          "text": [
            "En un lug r de l  M nch , de cuyo nombre no quiero  cord rme.\n"
          ]
        }
      ]
    },
    {
      "cell_type": "markdown",
      "metadata": {
        "id": "GTEkrTApT8Xi"
      },
      "source": [
        "![ejercicio.png](attachment:ejercicio.png)\n",
        "\n",
        "## Ejercicio 3\n",
        "1. Crea una lista con 3 elementos numéricos\n",
        "2. Añade un cuarto elemento\n",
        "3. Calcula la suma de todos\n",
        "4. Elimina el segundo elemento de la lista\n",
        "5. Añade otro elemento en la posicion 3 de la lista\n",
        "6. Crea otra lista con 4 elementos y concaténala a la que ya tenías.\n",
        "7. Ordena la lista de menor a mayor.\n",
        "8. BONUS: Ordena la lista de mayor a menor.  \n",
        "(*PISTA: Para hacer 8, tendrás que buscar en la información del método...*)  \n",
        "  \n",
        "  \n",
        "NOTA: Pinta por pantalla el resultado de cada paso."
      ]
    },
    {
      "cell_type": "code",
      "execution_count": null,
      "metadata": {
        "colab": {
          "base_uri": "https://localhost:8080/"
        },
        "id": "wg08HpjgT8Xi",
        "outputId": "c73ff38c-72f6-43b9-b406-c1d879a93a66"
      },
      "outputs": [
        {
          "output_type": "stream",
          "name": "stdout",
          "text": [
            "[1, 2, 3, 4]\n",
            "10\n",
            "[1, 2, 10, 3, 4]\n",
            "[1, 2, 10, 3, 4, 40, 20, 30, 25]\n",
            "None\n",
            "None\n"
          ]
        }
      ],
      "source": [
        "lista_numerica = [1,2,3]\n",
        "lista_numerica.append(4)\n",
        "print(lista_numerica)\n",
        "print(sum(lista_numerica))\n",
        "lista_numerica.insert(2,10)\n",
        "print(lista_numerica)\n",
        "otra_lista = [40,20,30,25]\n",
        "concatenacion = lista_numerica + otra_lista\n",
        "print(concatenacion)\n",
        "print(concatenacion.sort())\n",
        "print(concatenacion.reverse())"
      ]
    }
  ],
  "metadata": {
    "kernelspec": {
      "display_name": "Curso_Online_DATA",
      "language": "python",
      "name": "python3"
    },
    "language_info": {
      "codemirror_mode": {
        "name": "ipython",
        "version": 3
      },
      "file_extension": ".py",
      "mimetype": "text/x-python",
      "name": "python",
      "nbconvert_exporter": "python",
      "pygments_lexer": "ipython3",
      "version": "3.11.5"
    },
    "orig_nbformat": 4,
    "colab": {
      "provenance": []
    }
  },
  "nbformat": 4,
  "nbformat_minor": 0
}