{
  "cells": [
    {
      "cell_type": "markdown",
      "metadata": {
        "id": "XdYAGe14ehVd"
      },
      "source": [
        "![TheBridge_logo_RGB_color.jpg](attachment:TheBridge_logo_RGB_color.jpg)"
      ]
    },
    {
      "cell_type": "markdown",
      "metadata": {
        "id": "ruGiVcrzehVe"
      },
      "source": [
        "![ejercicios.png](attachment:ejercicios.png)"
      ]
    },
    {
      "cell_type": "markdown",
      "metadata": {
        "id": "ZdQOh12JehVe"
      },
      "source": [
        "## PRACTICA OBLIGATORIA: PYTHON"
      ]
    },
    {
      "cell_type": "markdown",
      "metadata": {
        "id": "w-2FeHWRehVf"
      },
      "source": [
        "* La práctica obligatoria de esta unidad consiste en dos ejercicios de programación libre a completar. Descarga este notebook en tu ordenador y trabaja en local.  \n",
        "* Recuerda que debes subirla a tu repositorio personal antes de la sesión en vivo para que puntúe adecuadamente.  \n",
        "* Recuerda también que no es necesario que esté perfecta, sólo es necesario que se vea el esfuerzo.\n",
        "* Esta práctica se resolverá en la sesión en vivo correspondiente y la solución se publicará en el repo del curso."
      ]
    },
    {
      "cell_type": "markdown",
      "metadata": {
        "id": "NTKbmg6kehVf"
      },
      "source": [
        "![ejercicio.png](attachment:ejercicio.png)\n",
        "## PARTE I\n",
        "\n",
        "En este ejercicio debes simular un chatbot al que le haremos pedidos de pizzas.\n",
        "\n",
        "1. El chatbot tiene que saludar con un: \"Buenas tardes, bienvenido al servicio de pedido online, el precio de nuestra pizzas es de 8,95 para la familiar o de 9,90 para la mediana ¿Cuántas pizzas  familiares desea?\"\n",
        "2. El ususario tiene que introducir un número de pizzas en una variable llamada 'pizz_familiar'\n",
        "3. El chatbot debe responder: \"Estupendo, ¿cuántas pizzas medianas desea?\" y guardar el número de pizzas medianas en otra variable 'pizz_mediana'\n",
        "4. Además debe responder del chatbot: \"Estupendo, se están preparando 'pizz' pizzas familiares y 'pizz_mediana' pizzas medianas. Digame su dirección\"\n",
        "5. El ususario tiene que introducir una direccion en formato String en otra variable llamada 'direcc'\n",
        "6. El programa debe calcular el monto total\n",
        "7. Respuesta final del chatbot: \"Le mandaremos las '(número total de pizzas)' pizzas a la dirección 'direcc'. Serán <precio total a pagar en euros>. Muchas gracias por su pedido.\"\n",
        "         \n"
      ]
    },
    {
      "cell_type": "code",
      "execution_count": null,
      "metadata": {
        "colab": {
          "base_uri": "https://localhost:8080/"
        },
        "id": "AKIHkJ9nehVg",
        "outputId": "6fa293ca-54f7-41a5-a8a2-7214e971705c"
      },
      "outputs": [
        {
          "output_type": "stream",
          "name": "stdout",
          "text": [
            "Buenas tardes, bienvenido al servicio de pedido online, el precio de nuestra pizzas es de 8,95 para la familiar o de 9,90 para la mediana\n",
            "¿Cuántas pizzas familiares desea?1\n",
            "Estupendo,\n",
            "¿cuántas pizzas medianas desea?2\n",
            "Estupendo, se están preparando 1 pizzas familiares y  2 pizzas medianas.\n",
            "Digame su dirección: test\n",
            "26\n",
            "Le mandaremos las 3 pizzas a la dirección test . Serán 26 EUR . Muchas gracias por su pedido.\n"
          ]
        }
      ],
      "source": [
        "print(\"Buenas tardes, bienvenido al servicio de pedido online, el precio de nuestra pizzas es de 8,95 para la familiar o de 9,90 para la mediana\")\n",
        "pizz_familiar = input(\"¿Cuántas pizzas familiares desea?\")\n",
        "print(\"Estupendo,\")\n",
        "pizz_mediana = input(\"¿cuántas pizzas medianas desea?\")\n",
        "print(\"Estupendo, se están preparando\", pizz_familiar,\"pizzas familiares y \", pizz_mediana, \"pizzas medianas.\")\n",
        "direcc = input(\"Digame su dirección: \")\n",
        "pizz_familiar = int(pizz_familiar)\n",
        "pizz_mediana = int(pizz_mediana)\n",
        "sum = int(pizz_familiar+pizz_mediana)\n",
        "precio_familiar = 8.95\n",
        "precio_mediana = 9.90\n",
        "precio_familiar = int(precio_familiar)\n",
        "precio_mediana = int(precio_mediana)\n",
        "total = ((pizz_familiar * precio_familiar) + (pizz_mediana * precio_mediana))\n",
        "print(\"Le mandaremos las\",sum,\"pizzas a la dirección\",direcc,\". Serán\", total,\"EUR . Muchas gracias por su pedido.\")"
      ]
    },
    {
      "cell_type": "markdown",
      "metadata": {
        "id": "qfGCDN6HehVg"
      },
      "source": [
        "![ejercicio.png](attachment:ejercicio.png)\n",
        "## Parte II\n",
        "\n",
        "Crea un programa que realice las siguientes acciones:\n",
        "\n",
        "1. Solicite al usuario que introduzca 3 números enteros separados por comas (por ejemplo: 1,2,3).\n",
        "2. Convierta esa entrada en una lista de números enteros.\n",
        "3. Utilizando funciones built-in, determine el número máximo, el número mínimo y la suma total de los números introducidos.\n",
        "4. Determine la verdad o falsedad de la siguiente afirmación: \"El número máximo menos el número mínimo es igual a la suma total dividida por 5\".\n",
        "5. Muestre los resultados utilizando print."
      ]
    },
    {
      "cell_type": "code",
      "execution_count": null,
      "metadata": {
        "colab": {
          "base_uri": "https://localhost:8080/"
        },
        "id": "G_UMSpr2ehVg",
        "outputId": "ade83683-8b6b-41b3-91f4-60f63cf1e3e0"
      },
      "outputs": [
        {
          "name": "stdout",
          "output_type": "stream",
          "text": [
            "Introduzca 3 números enteros separados por comas: 1,2,3\n"
          ]
        }
      ],
      "source": [
        "solicitud = input(\"Introduzca 3 números enteros separados por comas: \")\n",
        "lista = list(solicitud)\n"
      ]
    },
    {
      "cell_type": "code",
      "source": [
        "print(lista)"
      ],
      "metadata": {
        "colab": {
          "base_uri": "https://localhost:8080/"
        },
        "id": "_7rLTYMsolF-",
        "outputId": "c6b8f610-d38b-46f1-ef47-c22a59a702db"
      },
      "execution_count": null,
      "outputs": [
        {
          "output_type": "stream",
          "name": "stdout",
          "text": [
            "['1', ',', '2', ',', '3']\n"
          ]
        }
      ]
    },
    {
      "cell_type": "code",
      "source": [
        "lista.remove(\",\")\n",
        "lista_enteros = int(lista)\n"
      ],
      "metadata": {
        "colab": {
          "base_uri": "https://localhost:8080/",
          "height": 158
        },
        "id": "iA90q5_6vCGu",
        "outputId": "f1bbbeb3-3a65-4df1-e887-ac4a8b719129"
      },
      "execution_count": null,
      "outputs": [
        {
          "output_type": "error",
          "ename": "TypeError",
          "evalue": "int() argument must be a string, a bytes-like object or a real number, not 'list'",
          "traceback": [
            "\u001b[0;31m---------------------------------------------------------------------------\u001b[0m",
            "\u001b[0;31mTypeError\u001b[0m                                 Traceback (most recent call last)",
            "\u001b[0;32m<ipython-input-9-ca17b565009d>\u001b[0m in \u001b[0;36m<cell line: 0>\u001b[0;34m()\u001b[0m\n\u001b[1;32m      1\u001b[0m \u001b[0mlista\u001b[0m\u001b[0;34m.\u001b[0m\u001b[0mremove\u001b[0m\u001b[0;34m(\u001b[0m\u001b[0;34m\",\"\u001b[0m\u001b[0;34m)\u001b[0m\u001b[0;34m\u001b[0m\u001b[0;34m\u001b[0m\u001b[0m\n\u001b[0;32m----> 2\u001b[0;31m \u001b[0mlista_enteros\u001b[0m \u001b[0;34m=\u001b[0m \u001b[0mint\u001b[0m\u001b[0;34m(\u001b[0m\u001b[0mlista\u001b[0m\u001b[0;34m)\u001b[0m\u001b[0;34m\u001b[0m\u001b[0;34m\u001b[0m\u001b[0m\n\u001b[0m",
            "\u001b[0;31mTypeError\u001b[0m: int() argument must be a string, a bytes-like object or a real number, not 'list'"
          ]
        }
      ]
    },
    {
      "cell_type": "code",
      "source": [
        "max(lista_enteros)"
      ],
      "metadata": {
        "colab": {
          "base_uri": "https://localhost:8080/",
          "height": 141
        },
        "id": "BNLvTuM1vC_1",
        "outputId": "bc92b7dc-7afc-416f-fb82-dae6cb665ba0"
      },
      "execution_count": null,
      "outputs": [
        {
          "output_type": "error",
          "ename": "TypeError",
          "evalue": "'str' object is not callable",
          "traceback": [
            "\u001b[0;31m---------------------------------------------------------------------------\u001b[0m",
            "\u001b[0;31mTypeError\u001b[0m                                 Traceback (most recent call last)",
            "\u001b[0;32m<ipython-input-15-a1b675a2949f>\u001b[0m in \u001b[0;36m<cell line: 0>\u001b[0;34m()\u001b[0m\n\u001b[0;32m----> 1\u001b[0;31m \u001b[0mmax\u001b[0m\u001b[0;34m(\u001b[0m\u001b[0mlista_enteros\u001b[0m\u001b[0;34m)\u001b[0m\u001b[0;34m\u001b[0m\u001b[0;34m\u001b[0m\u001b[0m\n\u001b[0m",
            "\u001b[0;31mTypeError\u001b[0m: 'str' object is not callable"
          ]
        }
      ]
    },
    {
      "cell_type": "code",
      "source": [
        "min(lista_enteros)"
      ],
      "metadata": {
        "colab": {
          "base_uri": "https://localhost:8080/",
          "height": 35
        },
        "id": "hG34WxO5w8-O",
        "outputId": "8bdf3f3b-cdee-4e92-98fd-002ae6c67e82"
      },
      "execution_count": null,
      "outputs": [
        {
          "output_type": "execute_result",
          "data": {
            "text/plain": [
              "','"
            ],
            "application/vnd.google.colaboratory.intrinsic+json": {
              "type": "string"
            }
          },
          "metadata": {},
          "execution_count": 11
        }
      ]
    },
    {
      "cell_type": "code",
      "source": [
        "sum(lista_enteros)"
      ],
      "metadata": {
        "colab": {
          "base_uri": "https://localhost:8080/",
          "height": 141
        },
        "id": "i7zQnVaaw931",
        "outputId": "ee9fa23d-c6ba-4887-a621-5aa4844a50e8"
      },
      "execution_count": null,
      "outputs": [
        {
          "output_type": "error",
          "ename": "TypeError",
          "evalue": "unsupported operand type(s) for +: 'int' and 'str'",
          "traceback": [
            "\u001b[0;31m---------------------------------------------------------------------------\u001b[0m",
            "\u001b[0;31mTypeError\u001b[0m                                 Traceback (most recent call last)",
            "\u001b[0;32m<ipython-input-12-f8ad4b8e374b>\u001b[0m in \u001b[0;36m<cell line: 0>\u001b[0;34m()\u001b[0m\n\u001b[0;32m----> 1\u001b[0;31m \u001b[0msum\u001b[0m\u001b[0;34m(\u001b[0m\u001b[0mlista_enteros\u001b[0m\u001b[0;34m)\u001b[0m\u001b[0;34m\u001b[0m\u001b[0;34m\u001b[0m\u001b[0m\n\u001b[0m",
            "\u001b[0;31mTypeError\u001b[0m: unsupported operand type(s) for +: 'int' and 'str'"
          ]
        }
      ]
    },
    {
      "cell_type": "code",
      "source": [
        "frase = \"El número máximo menos el número mínimo es igual a la suma total dividida por 5\"."
      ],
      "metadata": {
        "id": "5DQVFqaexjLG"
      },
      "execution_count": null,
      "outputs": []
    },
    {
      "cell_type": "code",
      "source": [],
      "metadata": {
        "id": "mst1MeXNxkFl"
      },
      "execution_count": null,
      "outputs": []
    }
  ],
  "metadata": {
    "kernelspec": {
      "display_name": "Curso_Online_DATA",
      "language": "python",
      "name": "python3"
    },
    "language_info": {
      "codemirror_mode": {
        "name": "ipython",
        "version": 3
      },
      "file_extension": ".py",
      "mimetype": "text/x-python",
      "name": "python",
      "nbconvert_exporter": "python",
      "pygments_lexer": "ipython3",
      "version": "3.11.5"
    },
    "orig_nbformat": 4,
    "colab": {
      "provenance": []
    }
  },
  "nbformat": 4,
  "nbformat_minor": 0
}