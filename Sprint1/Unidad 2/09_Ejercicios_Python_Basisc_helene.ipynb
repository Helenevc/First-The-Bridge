{
  "cells": [
    {
      "cell_type": "markdown",
      "metadata": {
        "id": "QxLOIQ9GMBum"
      },
      "source": [
        "![TheBridge_logo_RGB_color.jpg](attachment:TheBridge_logo_RGB_color.jpg)"
      ]
    },
    {
      "cell_type": "markdown",
      "metadata": {
        "id": "_nks01KRMBur"
      },
      "source": [
        "![ejercicios.png](LOGO.png)\n",
        "\n",
        "\n",
        "\n",
        "\n",
        "\n",
        "\n",
        "\n"
      ]
    },
    {
      "cell_type": "markdown",
      "metadata": {
        "id": "kRDhgV15MBus"
      },
      "source": [
        "## EJERCICIOS PYTHON BASICO 1:\n",
        "## Variables, Print y Comentarios"
      ]
    },
    {
      "cell_type": "markdown",
      "metadata": {
        "id": "4Ag3li2QMBus"
      },
      "source": [
        "Completa los siguiente ejercicios, la solución a los mismos se publicarán en el repo del curso a lo largo del sprint"
      ]
    },
    {
      "cell_type": "markdown",
      "metadata": {
        "id": "6TXCqFPDMBus"
      },
      "source": [
        "![ejercicio.png](attachment:ejercicio.png)<table align=\"left\">\n",
        " <tr>\n",
        "     <td style=\"text-align:left\">\n",
        "         <h3>Ejercicio 1: Print con formato</h3>\n",
        "\n",
        "      \n",
        "<ol>\n",
        "<li>Imprime por pantalla esta cita con el siguiente formato</li>\n",
        "\n",
        "\n",
        "\n",
        "![frase_Einstein.PNG](attachment:frase_Einstein.PNG)\n",
        "</ol>\n",
        "         \n",
        " </td></tr>\n",
        "</table>"
      ]
    },
    {
      "cell_type": "code",
      "execution_count": 38,
      "metadata": {
        "colab": {
          "base_uri": "https://localhost:8080/"
        },
        "id": "G4Cqih2kMBus",
        "outputId": "6848dcbb-c9e2-475a-8540-3b9caa1eef30"
      },
      "outputs": [
        {
          "output_type": "stream",
          "name": "stdout",
          "text": [
            "¿Por qué esta magnífica tecnología científica,\n",
            "     que ahorra trabajo y nos hace la vida mas fácil, \n",
            "       nos aporta tan poca felicidad? \n",
            "          La respuesta es está, simplemente: porque aún no hemos aprendido a usarla con tino.\n",
            "\"Albert Eistein\"\n"
          ]
        }
      ],
      "source": [
        "\n",
        "print(\"¿Por qué esta magnífica tecnología científica,\\n     que ahorra trabajo y nos hace la vida mas fácil, \\n       nos aporta tan poca felicidad? \\n          La respuesta es está, simplemente: porque aún no hemos aprendido a usarla con tino.\")\n",
        "print('\"Albert Eistein\"')"
      ]
    },
    {
      "cell_type": "markdown",
      "metadata": {
        "id": "KqSaWFtSMBuu"
      },
      "source": [
        "![ejercicio.png](attachment:ejercicio.png)<table align=\"left\">\n",
        " <tr>\n",
        "     <td style=\"text-align:left\">\n",
        "         <h3>Ejercicio 2: Print y variables</h3>\n",
        "\n",
        "      \n",
        "<ol>\n",
        "<li> Escribe el nombre de la calle de tu domicilio </li>\n",
        "<li> Escribe el numero de la calle en otra </li>\n",
        "<li> Población en una tercera </li>\n",
        "<li> Codigo postal en la cuarta variable </li>\n",
        "<li> Crea una quinta variable que concatene todas ellas </li>\n",
        "<li> Imprimela por pantalla </li>\n",
        "\n",
        "</ol>\n",
        "         \n",
        " </td></tr>\n",
        "</table>\n"
      ]
    },
    {
      "cell_type": "code",
      "execution_count": 40,
      "metadata": {
        "colab": {
          "base_uri": "https://localhost:8080/"
        },
        "id": "5hYG8seyMBuv",
        "outputId": "2a26816e-939c-447a-e46b-98a363a42b1f"
      },
      "outputs": [
        {
          "output_type": "stream",
          "name": "stdout",
          "text": [
            "('Calle Canonge Baranera', 7, 'Badalona', '08911')\n"
          ]
        }
      ],
      "source": [
        "nombre = \"Calle Canonge Baranera\"\n",
        "numero = 7\n",
        "población = \"Badalona\"\n",
        "Codigo_postal = '08911'\n",
        "Direccion_completa = (nombre, numero, población, Codigo_postal)\n",
        "print(Direccion_completa)\n"
      ]
    },
    {
      "cell_type": "markdown",
      "metadata": {
        "id": "Uinn5PICMBuv"
      },
      "source": [
        "![ejercicio.png](attachment:ejercicio.png)<table align=\"left\">\n",
        " <tr>\n",
        "     <td style=\"text-align:left\">\n",
        "         <h3>Ejercicio 3: Comentarios</h3>\n",
        "\n",
        "      \n",
        "<ol>\n",
        "<li> Copia en el programa del ejercicio anterior</li>\n",
        "<li> Comentalo línea a línea, bien antes de cada línea, bien a su derecha</li>\n",
        "<li> Termina con un comentario multilínea explicando que hace en general el programa</li>\n",
        "\n",
        "</ol>\n",
        "         \n",
        " </td></tr>\n",
        "</table>\n"
      ]
    },
    {
      "cell_type": "code",
      "execution_count": 46,
      "metadata": {
        "colab": {
          "base_uri": "https://localhost:8080/",
          "height": 52
        },
        "id": "uyB5eq4pMBuv",
        "outputId": "025270a7-7402-4850-d7e5-8c5e8a438441"
      },
      "outputs": [
        {
          "output_type": "stream",
          "name": "stdout",
          "text": [
            "('Calle Canonge Baranera', 7, 'Badalona', '08911')\n"
          ]
        },
        {
          "output_type": "execute_result",
          "data": {
            "text/plain": [
              "'en este programa queremos tener todas las variables del domicilio, y las juntamos en una unica para tener el domicilio completo'"
            ],
            "application/vnd.google.colaboratory.intrinsic+json": {
              "type": "string"
            }
          },
          "metadata": {},
          "execution_count": 46
        }
      ],
      "source": [
        "# variable de la calle del domicilio\n",
        "nombre = \"Calle Canonge Baranera\"\n",
        "numero = 7 # variable del numero del domicilio\n",
        "población = \"Badalona\" # variable de la población del domicilio\n",
        "# variable del codigo postal del domicilio\n",
        "Codigo_postal = '08911'\n",
        "domicilio = (nombre, numero, población, Codigo_postal) # junta de todas las variables de domicilio en una unica variable\n",
        "print(domicilio) #imprime el domicilio completo\n",
        "'''en este programa queremos tener todas las variables del domicilio, y las juntamos en una unica para tener el domicilio completo'''\n",
        ""
      ]
    },
    {
      "cell_type": "markdown",
      "metadata": {
        "id": "6ELnbVBmMBuw"
      },
      "source": [
        "![ejercicio.png](attachment:ejercicio.png)<table align=\"left\">\n",
        " <tr>\n",
        "     <td style=\"text-align:left\">\n",
        "         <h3>Ejercicio 4: Variables</h3>\n",
        "\n",
        "      \n",
        "<ol>\n",
        "¿Qué variables están mal escritas y por qué? Realiza primero tu hipótesis y luego ejecuta las variables para comprobarlo. En ese orden :)\n",
        "\n",
        "<li> 1. mi_variable = \"Economía\" </li>\n",
        "<li> 2. otra_var = \"Ejercicio </li>\n",
        "<li> 3. True = \"Ejercicio\" </li>\n",
        "<li> 4. mi variab1e = \"Alpha\" </li>\n",
        "<li> 5. exec = True </li>\n",
        "<li> 6. import = 40 </li>\n",
        "<li> 7. 81mi_variable = \"Agua\" </li>\n",
        "<li> 8. mi_variable10 = 6</li>\n",
        "\n",
        "</ol>\n",
        "         \n",
        " </td></tr>\n",
        "</table>\n"
      ]
    },
    {
      "cell_type": "code",
      "execution_count": 48,
      "metadata": {
        "colab": {
          "base_uri": "https://localhost:8080/",
          "height": 106
        },
        "id": "IqbB-eU5MBuw",
        "outputId": "b3b6018a-1bfd-48aa-ba33-88160f94b96c"
      },
      "outputs": [
        {
          "output_type": "error",
          "ename": "SyntaxError",
          "evalue": "unterminated string literal (detected at line 3) (<ipython-input-48-9ca7e622a0a6>, line 3)",
          "traceback": [
            "\u001b[0;36m  File \u001b[0;32m\"<ipython-input-48-9ca7e622a0a6>\"\u001b[0;36m, line \u001b[0;32m3\u001b[0m\n\u001b[0;31m    <li> 2. otra_var = \"Ejercicio </li> # error por no cerrar la doble comillas\u001b[0m\n\u001b[0m                       ^\u001b[0m\n\u001b[0;31mSyntaxError\u001b[0m\u001b[0;31m:\u001b[0m unterminated string literal (detected at line 3)\n"
          ]
        }
      ],
      "source": [
        "#parece que todas empiezan por un numero, con lo cual no estaria correcto, pero si vamos de una en una...\n",
        "<li> 1. mi_variable = \"Economía\" </li> #correcto\n",
        "<li> 2. otra_var = \"Ejercicio </li> # error por no cerrar la doble comillas\n",
        "<li> 3. True = \"Ejercicio\" </li> #error por tener mayuscula\n",
        "<li> 4. mi variab1e = \"Alpha\" </li> #error, hay un especio\n",
        "<li> 5. exec = True </li> # correcto\n",
        "<li> 6. import = 40 </li> #import es un Keylist, palabra reservada\n",
        "<li> 7. 81mi_variable = \"Agua\" </li> #evitar numeros al principio\n",
        "<li> 8. mi_variable10 = 6</li> # correcto"
      ]
    },
    {
      "cell_type": "markdown",
      "metadata": {
        "id": "1qJJIBuMMBuw"
      },
      "source": [
        "![ejercicio.png](attachment:ejercicio.png)<table align=\"left\">\n",
        " <tr>\n",
        "     <td style=\"text-align:left\">\n",
        "         <h3>Ejercicio 5: variables</h3>\n",
        "\n",
        "      \n",
        "<ol>\n",
        "    <li>Crea un programa que almacene el número de victorias de la selección femenina de fútbol en el Mundial de 2023. </li>\n",
        "    <li>Guarda el número de victorias en otra, y el número de derrotas en otro</li>\n",
        "    <li>Crea una variable que sea el porcentaje de victorias</li>\n",
        "    <li>Crea una variable que sea el porcentaje de derrotas</li>\n",
        "    <li>Comprueba que todas las variables tienen los valores que les corresponde, hazlo de las dos maneras que hemos visto en clase, como celda de salida y con el uso de print</li>\n",
        "</ol>\n",
        "         \n",
        " </td></tr>\n",
        "</table>"
      ]
    },
    {
      "cell_type": "code",
      "execution_count": 50,
      "metadata": {
        "colab": {
          "base_uri": "https://localhost:8080/"
        },
        "id": "JCWlV4Y-MBux",
        "outputId": "5ff8b2df-ef83-48f2-a12c-44120271ca6c"
      },
      "outputs": [
        {
          "output_type": "stream",
          "name": "stdout",
          "text": [
            "0.6666666666666666\n",
            "0.3333333333333333\n",
            "100\n"
          ]
        }
      ],
      "source": [
        "otra = 100\n",
        "otro = 50\n",
        "total = (otra+otro)\n",
        "porcentaje_otra = (otra/total)\n",
        "print(porcentaje_otra)\n",
        "porcentaje_otro = (otro/total)\n",
        "print(porcentaje_otro)\n",
        "print(otra)"
      ]
    }
  ],
  "metadata": {
    "kernelspec": {
      "display_name": "Curso_Online_DATA",
      "language": "python",
      "name": "python3"
    },
    "language_info": {
      "codemirror_mode": {
        "name": "ipython",
        "version": 3
      },
      "file_extension": ".py",
      "mimetype": "text/x-python",
      "name": "python",
      "nbconvert_exporter": "python",
      "pygments_lexer": "ipython3",
      "version": "3.11.5"
    },
    "orig_nbformat": 4,
    "colab": {
      "provenance": []
    }
  },
  "nbformat": 4,
  "nbformat_minor": 0
}