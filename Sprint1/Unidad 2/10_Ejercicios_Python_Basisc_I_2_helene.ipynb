{
  "cells": [
    {
      "cell_type": "markdown",
      "metadata": {
        "id": "QwCTlbOUBzLR"
      },
      "source": [
        "![TheBridge_logo_RGB_color.jpg](attachment:TheBridge_logo_RGB_color.jpg)"
      ]
    },
    {
      "cell_type": "markdown",
      "metadata": {
        "id": "DzsEcRdkBzLT"
      },
      "source": [
        "![ejercicios.png](attachment:ejercicios.png)"
      ]
    },
    {
      "cell_type": "markdown",
      "metadata": {
        "id": "eFt1Os03BzLU"
      },
      "source": [
        "## EJERCICIOS PYTHON BASICO 2:\n",
        "## Tipos y conversión de tipos"
      ]
    },
    {
      "cell_type": "markdown",
      "metadata": {
        "id": "BRueMwT0BzLU"
      },
      "source": [
        "Completa los siguiente ejercicios, la solución a los mismos se publicarán en el repo del curso a lo largo del sprint"
      ]
    },
    {
      "cell_type": "markdown",
      "metadata": {
        "id": "RTSYvsZsBzLV"
      },
      "source": [
        "![ejercicio.png](attachment:ejercicio.png)\n",
        "\n",
        "## Ejercicio 1\n",
        "\n",
        "1. Crea dos variables numericas: un `int` y un `float`\n",
        "2. Comprueba sus tipos\n",
        "3. Sumalas en otra nueva\n",
        "4. ¿De qué tipo es la nueva variable?\n",
        "5. Elimina las dos primeras variables creadas"
      ]
    },
    {
      "cell_type": "code",
      "execution_count": 6,
      "metadata": {
        "colab": {
          "base_uri": "https://localhost:8080/"
        },
        "id": "H78Xf1SXBzLV",
        "outputId": "b043519a-1828-4aa5-c3bd-f2aa7665375d"
      },
      "outputs": [
        {
          "output_type": "stream",
          "name": "stdout",
          "text": [
            "52 <class 'int'>\n",
            "52.5 <class 'float'>\n",
            "104.5 <class 'float'>\n"
          ]
        }
      ],
      "source": [
        "numero_entero = 52\n",
        "numero_real = 52.5\n",
        "print(numero_entero,type(numero_entero))\n",
        "print(numero_real,type(numero_real))\n",
        "numero_total = numero_entero + numero_real\n",
        "print(numero_total,type(numero_total))\n",
        "del numero_entero\n",
        "del numero_real\n",
        "\n",
        "\n"
      ]
    },
    {
      "cell_type": "markdown",
      "metadata": {
        "id": "XgQnoTkUBzLV"
      },
      "source": [
        "![ejercicio.png](attachment:ejercicio.png)\n",
        "\n",
        "## Ejercicio 2\n",
        "Escribe un programa para pasar de grados a radianes. Hay que usar `input`. Recuerda que la conversión se realiza mediante\n",
        "\n",
        "radianes = grados*(pi/180)"
      ]
    },
    {
      "cell_type": "code",
      "execution_count": 19,
      "metadata": {
        "colab": {
          "base_uri": "https://localhost:8080/"
        },
        "id": "2YuBF1bgBzLV",
        "outputId": "282eca76-8d9c-4b54-bd6b-2f43ff0459e7"
      },
      "outputs": [
        {
          "output_type": "stream",
          "name": "stdout",
          "text": [
            "escribe el grado 90\n",
            "9.694444444444445e-05 <class 'float'>\n",
            "90 <class 'str'>\n",
            "0.008725\n"
          ]
        }
      ],
      "source": [
        "grado_input = input(\"escribe el grado \")\n",
        "grado_int = int(grado_input)\n",
        "pi = 0.01745\n",
        "conversion = pi/180\n",
        "print(conversion, type(conversion))\n",
        "print(grado_input,type(grado_input))\n",
        "radianes = (grado_int * conversion)\n",
        "print(radianes)\n"
      ]
    },
    {
      "cell_type": "markdown",
      "metadata": {
        "id": "t8YnDMkQBzLW"
      },
      "source": [
        "![ejercicio.png](attachment:ejercicio.png)\n",
        "\n",
        "## Ejercicio 3\n",
        "Escribe un programa que calcule el area de un paralelogramo (base x altura). También con `input`"
      ]
    },
    {
      "cell_type": "code",
      "execution_count": 25,
      "metadata": {
        "colab": {
          "base_uri": "https://localhost:8080/"
        },
        "id": "sM54ge4tBzLW",
        "outputId": "21cf56b7-7b8d-4ea9-e402-86b49d6821ec"
      },
      "outputs": [
        {
          "output_type": "stream",
          "name": "stdout",
          "text": [
            "medida base:5\n",
            "altura:6\n",
            "5 <class 'str'>\n",
            "5 <class 'str'>\n",
            "5 <class 'int'>\n",
            "6 <class 'int'>\n",
            "30\n"
          ]
        }
      ],
      "source": [
        "base = input(\"medida base:\")\n",
        "altura = input(\"altura:\")\n",
        "print(base,type(base))\n",
        "base_int = int(base)\n",
        "altura_int = int(altura)\n",
        "print(base,type(base))\n",
        "print(base_int,type(base_int))\n",
        "print(altura_int,type(altura_int))\n",
        "area = (base_int * altura_int)\n",
        "print(area)\n"
      ]
    },
    {
      "cell_type": "markdown",
      "metadata": {
        "id": "oKfVTp4OBzLW"
      },
      "source": [
        "![ejercicio.png](attachment:ejercicio.png)\n",
        "\n",
        "## Ejercicio 4\n",
        "Escribe un programa que calcule el area de un paralelogramo (base x altura). También con `input`. En este caso debe ser capaz de admitir valores reales, con decimales, para base y altura en español. (PISTA: Recuerda que tendrás que hacer uso del método replace)"
      ]
    },
    {
      "cell_type": "code",
      "execution_count": 40,
      "metadata": {
        "colab": {
          "base_uri": "https://localhost:8080/"
        },
        "id": "MtxqvySGBzLW",
        "outputId": "ede693ee-7bb5-46da-b22a-f7efc1103aa5"
      },
      "outputs": [
        {
          "output_type": "stream",
          "name": "stdout",
          "text": [
            "medida base:4,6\n",
            "altura:5,6\n",
            "4,6 <class 'str'>\n",
            "4.6 <class 'str'>\n",
            "30\n"
          ]
        }
      ],
      "source": [
        "real_base = input(\"medida base:\")\n",
        "real_altura = input(\"altura:\")\n",
        "print(real_base,type(real_base)) # print para verificar type\n",
        "base = real_base.replace(\",\",\".\") #cambio , a . para poder pasar a float\n",
        "altura = real_altura.replace(\",\",\".\")\n",
        "print(base,type(base))\n",
        "base_float = float(base)\n",
        "altura_float = float(altura)\n",
        "area = (base_int * altura_int)\n",
        "print(area)"
      ]
    },
    {
      "cell_type": "markdown",
      "metadata": {
        "id": "x7yTcoc2BzLW"
      },
      "source": [
        "![ejercicio.png](attachment:ejercicio.png)\n",
        "\n",
        "## Ejercicio 5\n",
        "Complete el siguiente código para solicitar al usuario su nombre y su edad. Luego, calcule en qué año nació el usuario y muestre el resultado."
      ]
    },
    {
      "cell_type": "code",
      "execution_count": 47,
      "metadata": {
        "colab": {
          "base_uri": "https://localhost:8080/"
        },
        "id": "WZ0I0dyhBzLW",
        "outputId": "dfa4e67b-7bdc-4e05-b097-35c015b9a497"
      },
      "outputs": [
        {
          "output_type": "stream",
          "name": "stdout",
          "text": [
            "¿Cuál es tu nombre? Helene\n",
            "¿Cuál es tu edad? 43\n",
            "Helene naciste en el año  1982 .\n"
          ]
        }
      ],
      "source": [
        "nombre = input(\"¿Cuál es tu nombre? \")\n",
        "edad = input(\"¿Cuál es tu edad? \")\n",
        "edad_int = int(edad)\n",
        "año_actual = 2025  # Puedes cambiarlo según el año en curso\n",
        "año_nacimiento = año_actual - edad_int\n",
        "print(nombre,\"naciste en el año \",año_nacimiento,\".\")\n"
      ]
    }
  ],
  "metadata": {
    "kernelspec": {
      "display_name": "Curso_Online_DATA",
      "language": "python",
      "name": "python3"
    },
    "language_info": {
      "codemirror_mode": {
        "name": "ipython",
        "version": 3
      },
      "file_extension": ".py",
      "mimetype": "text/x-python",
      "name": "python",
      "nbconvert_exporter": "python",
      "pygments_lexer": "ipython3",
      "version": "3.11.5"
    },
    "orig_nbformat": 4,
    "colab": {
      "provenance": [],
      "history_visible": true
    }
  },
  "nbformat": 4,
  "nbformat_minor": 0
}