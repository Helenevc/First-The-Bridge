{
  "cells": [
    {
      "cell_type": "markdown",
      "metadata": {
        "id": "EfjL9kMqVY1F"
      },
      "source": [
        "![TheBridge_logo_RGB_color.jpg](attachment:TheBridge_logo_RGB_color.jpg)"
      ]
    },
    {
      "cell_type": "markdown",
      "metadata": {
        "id": "hTMiSl95VY1G"
      },
      "source": [
        "![ejercicios.png](attachment:ejercicios.png)"
      ]
    },
    {
      "cell_type": "markdown",
      "metadata": {
        "id": "0pt1Q06tVY1H"
      },
      "source": [
        "## EJERCICIOS PYTHON BASICO II\n",
        "## LISTAS Y TUPLAS"
      ]
    },
    {
      "cell_type": "markdown",
      "metadata": {
        "id": "nZRpadDgVY1H"
      },
      "source": [
        "Para ejercitarte y afianzar lo aprendido sobre Listas y Tuplas, completa los siguiente ejercicios.\n",
        "  \n",
        "La solución a los mismos se publicarán en el repo del curso a lo largo del sprint."
      ]
    },
    {
      "cell_type": "markdown",
      "metadata": {
        "id": "DBMVNucrVY1I"
      },
      "source": [
        "## Contenidos"
      ]
    },
    {
      "cell_type": "markdown",
      "metadata": {
        "id": "DoSJ8UJZVY1J"
      },
      "source": [
        "### Ejercicio 1"
      ]
    },
    {
      "cell_type": "markdown",
      "metadata": {
        "id": "tAPEXEoiVY1J"
      },
      "source": [
        "![ejercicio.png](attachment:ejercicio.png)"
      ]
    },
    {
      "cell_type": "markdown",
      "metadata": {
        "id": "_YB7mAchVY1K"
      },
      "source": [
        "\n",
        "Piensa en al menos 3 personas que invitarías a cenar\n",
        "<ol>\n",
        "    <li>Utiliza la lista de invitados para imprimir cada uno por pantalla, mediante un bucle</li>\n",
        "    <li>Ordena alfabeticamente tu lista de invitados</li>\n",
        "    <li>¿Quién es el primer invitado de la lista?</li>\n",
        "    <li>Te llama uno de ellos a última hora, que no va a poder asistir. Eliminalo de la lista</li>\n",
        "    <li>Por suerte te ha llamado un amigo que no iba a asistir y al final si puede. Añadelo a mitad de la lista</li>\n",
        "</ol>\n",
        "         \n",
        " </td></tr>\n",
        "</table>"
      ]
    },
    {
      "cell_type": "code",
      "execution_count": null,
      "metadata": {
        "colab": {
          "base_uri": "https://localhost:8080/"
        },
        "id": "XO7Cq3ThVY1K",
        "outputId": "3b591c29-c804-49a8-f79a-03eda8acb087"
      },
      "outputs": [
        {
          "output_type": "stream",
          "name": "stdout",
          "text": [
            "Lea\n",
            "Maria\n",
            "Julia\n",
            "None\n"
          ]
        }
      ],
      "source": [
        "lista_invitados = [\"Lea\",\"Maria\",\"Julia\"]\n",
        "for i in lista_invitados:\n",
        "  print(i)"
      ]
    },
    {
      "cell_type": "code",
      "source": [
        "lista_invitados = [\"Lea\",\"Maria\",\"Julia\"]\n",
        "lista_invitados.sort()\n",
        "print(lista_invitados)"
      ],
      "metadata": {
        "colab": {
          "base_uri": "https://localhost:8080/"
        },
        "id": "u48wbpZbXGnv",
        "outputId": "0a2e5408-785e-4831-cf22-161aa1ff5278"
      },
      "execution_count": null,
      "outputs": [
        {
          "output_type": "stream",
          "name": "stdout",
          "text": [
            "['Julia', 'Lea', 'Maria']\n"
          ]
        }
      ]
    },
    {
      "cell_type": "code",
      "source": [
        "lista_invitados = [\"Lea\",\"Maria\",\"Julia\"]\n",
        "lista_invitados[0]\n"
      ],
      "metadata": {
        "colab": {
          "base_uri": "https://localhost:8080/",
          "height": 35
        },
        "id": "NLhcP9D1XWW_",
        "outputId": "c3858934-a015-4693-bbb2-acf6ed5b5d9d"
      },
      "execution_count": null,
      "outputs": [
        {
          "output_type": "execute_result",
          "data": {
            "text/plain": [
              "'Lea'"
            ],
            "application/vnd.google.colaboratory.intrinsic+json": {
              "type": "string"
            }
          },
          "metadata": {},
          "execution_count": 20
        }
      ]
    },
    {
      "cell_type": "code",
      "source": [
        "lista_invitados = [\"Lea\",\"Maria\",\"Julia\"]\n",
        "lista_invitados.remove(\"Julia\")\n",
        "print(lista_invitados)"
      ],
      "metadata": {
        "colab": {
          "base_uri": "https://localhost:8080/"
        },
        "id": "YJQaaJlaX0kI",
        "outputId": "0a19e3e8-8c29-4491-daff-bcb47b2db994"
      },
      "execution_count": null,
      "outputs": [
        {
          "output_type": "stream",
          "name": "stdout",
          "text": [
            "['Lea', 'Maria']\n"
          ]
        }
      ]
    },
    {
      "cell_type": "code",
      "source": [
        "lista_invitados.insert(1,\"Marc\")\n",
        "print(lista_invitados)"
      ],
      "metadata": {
        "colab": {
          "base_uri": "https://localhost:8080/"
        },
        "id": "RklAewFiY27O",
        "outputId": "8bb6c3bd-ac3d-4657-9afd-cf6c4be452af"
      },
      "execution_count": null,
      "outputs": [
        {
          "output_type": "stream",
          "name": "stdout",
          "text": [
            "['Lea', 'Marc', 'Marc', 'Marc', 'Marc', 'Maria', 'Marc']\n"
          ]
        }
      ]
    },
    {
      "cell_type": "code",
      "source": [],
      "metadata": {
        "id": "DMDJvRsKX13L"
      },
      "execution_count": null,
      "outputs": []
    },
    {
      "cell_type": "markdown",
      "metadata": {
        "id": "SjCgBQrjVY1L"
      },
      "source": [
        "### Ejercicio 2"
      ]
    },
    {
      "cell_type": "markdown",
      "metadata": {
        "id": "tBqdNlJhVY1L"
      },
      "source": [
        "![ejercicio.png](attachment:ejercicio.png)"
      ]
    },
    {
      "cell_type": "markdown",
      "metadata": {
        "id": "imTjIPBGVY1L"
      },
      "source": [
        "\n",
        "\n",
        "<ol>\n",
        "    <li>Crea una tupla con un único valor. Comprueba su tipo</li>\n",
        "    <li>Crea otra tupla con 3 elementos</li>\n",
        "    <li>Añadele (como puedas) a la primera tupla, los tres elementos de la segunda</li>\n",
        "    <li>Obtén una cuarta tupla a partir de los dos primeros valores de la tupla creada del apartado anterior</li>\n",
        "</ol>\n",
        "         \n",
        " </td></tr>\n",
        "</table>"
      ]
    },
    {
      "cell_type": "code",
      "execution_count": null,
      "metadata": {
        "colab": {
          "base_uri": "https://localhost:8080/"
        },
        "id": "LqQ06Di-VY1M",
        "outputId": "349cd1f4-c5fc-4a9d-dd70-3c7a3beee4fe"
      },
      "outputs": [
        {
          "output_type": "execute_result",
          "data": {
            "text/plain": [
              "tuple"
            ]
          },
          "metadata": {},
          "execution_count": 29
        }
      ],
      "source": [
        "tupla = (2,)\n",
        "type(tupla)"
      ]
    },
    {
      "cell_type": "code",
      "source": [
        "tupla3 = (2,3,4)\n",
        "new_tupla = tupla + tupla3\n",
        "print(new_tupla)\n",
        "print(type(tupla))"
      ],
      "metadata": {
        "colab": {
          "base_uri": "https://localhost:8080/"
        },
        "id": "qvMLq7QnZo4v",
        "outputId": "15095eff-ccfe-447c-81a6-00c64dc13ca5"
      },
      "execution_count": null,
      "outputs": [
        {
          "output_type": "stream",
          "name": "stdout",
          "text": [
            "(2, 2, 3, 4)\n",
            "<class 'tuple'>\n"
          ]
        }
      ]
    },
    {
      "cell_type": "code",
      "source": [],
      "metadata": {
        "id": "uqPHH5sLZpTF"
      },
      "execution_count": null,
      "outputs": []
    },
    {
      "cell_type": "markdown",
      "metadata": {
        "id": "hOEIzef1VY1M"
      },
      "source": [
        "### Ejercicio 3\n"
      ]
    },
    {
      "cell_type": "markdown",
      "metadata": {
        "id": "nv01S4rZVY1M"
      },
      "source": [
        "![ejercicio.png](attachment:ejercicio.png)"
      ]
    },
    {
      "cell_type": "markdown",
      "metadata": {
        "id": "LIzlpJeAVY1M"
      },
      "source": [
        "\n",
        "Dada la siguiente lista:\n",
        "> ```ejer_3 = [1,2,3,4,5,6]```\n",
        "\n",
        "Inviértela para que quede de la siguiente manera\n",
        "> ```ejer_3_inv = [6,5,4,3,2,1]```"
      ]
    },
    {
      "cell_type": "code",
      "execution_count": null,
      "metadata": {
        "colab": {
          "base_uri": "https://localhost:8080/"
        },
        "id": "2eRIK7SrVY1M",
        "outputId": "09a952f4-19c2-43c5-b3af-955fb8806adf"
      },
      "outputs": [
        {
          "output_type": "stream",
          "name": "stdout",
          "text": [
            "[6, 5, 4, 3, 2, 1]\n"
          ]
        }
      ],
      "source": [
        "ejer_3 = [1,2,3,4,5,6]\n",
        "ejer_3.sort(reverse = True)\n",
        "print(ejer_3)"
      ]
    },
    {
      "cell_type": "markdown",
      "metadata": {
        "id": "RikNR90fVY1N"
      },
      "source": [
        "### Ejercicio 4"
      ]
    },
    {
      "cell_type": "markdown",
      "metadata": {
        "id": "sSBIrACgVY1N"
      },
      "source": [
        "![ejercicio.png](attachment:ejercicio.png)"
      ]
    },
    {
      "cell_type": "markdown",
      "metadata": {
        "id": "VYqw_-gEVY1N"
      },
      "source": [
        "Concatena todos los elementos de la tupla en un unico string. Para ello utiliza el metodo `.join()` de los Strings\n",
        "> ```ejer_4 = (\"cien\", \"cañones\", \"por\", \"banda\")```\n",
        "\n",
        "Resultado: `cien cañones por banda`"
      ]
    },
    {
      "cell_type": "code",
      "execution_count": null,
      "metadata": {
        "colab": {
          "base_uri": "https://localhost:8080/"
        },
        "id": "1gOrQFqVVY1N",
        "outputId": "8abfe39c-910e-4d1e-cf36-fe07fd43dd6d"
      },
      "outputs": [
        {
          "output_type": "stream",
          "name": "stdout",
          "text": [
            "cien\n",
            "cañones\n",
            "por\n",
            "banda\n"
          ]
        }
      ],
      "source": [
        "ejer_4 = (\"cien\", \"cañones\", \"por\", \"banda\")\n",
        "for i in ejer_4:\n",
        "  print(i)"
      ]
    },
    {
      "cell_type": "code",
      "source": [
        "ejer_4 = (\"cien\", \"cañones\", \"por\", \"banda\")\n",
        "ejer_4lista = list(ejer_4)\n",
        "print(ejer_4lista,type(ejer_4lista))\n",
        "elemento1 = ejer_4lista[0]\n",
        "elemento2 = ejer_4lista[1]\n",
        "elemento3 = ejer_4lista[2]\n",
        "elemento4 = ejer_4lista[3]\n",
        "resultado = elemento1 +\" \"+ elemento2 +\" \"+ elemento3 +\" \"+ elemento4\n",
        "print(resultado)\n"
      ],
      "metadata": {
        "colab": {
          "base_uri": "https://localhost:8080/"
        },
        "id": "PY5maoswbH9_",
        "outputId": "ab82e31e-8947-4c82-b617-13c36c6ee48e"
      },
      "execution_count": null,
      "outputs": [
        {
          "output_type": "stream",
          "name": "stdout",
          "text": [
            "['cien', 'cañones', 'por', 'banda'] <class 'list'>\n",
            "cien cañones por banda\n"
          ]
        }
      ]
    },
    {
      "cell_type": "markdown",
      "metadata": {
        "id": "gY9x8gJfVY1O"
      },
      "source": [
        "### Ejercicio 5"
      ]
    },
    {
      "cell_type": "markdown",
      "metadata": {
        "id": "DoXmq_yHVY1O"
      },
      "source": [
        "![ejercicio.png](attachment:ejercicio.png)"
      ]
    },
    {
      "cell_type": "markdown",
      "metadata": {
        "id": "9G71LX68VY1O"
      },
      "source": [
        "Dada la siguiente lista, encuentra el índice del valor 45 y sustitúyelo por el 0\n",
        "> ```ejer_5 = [20, 47, 19, 29, 45, 67, 78, 90]```"
      ]
    },
    {
      "cell_type": "code",
      "execution_count": null,
      "metadata": {
        "colab": {
          "base_uri": "https://localhost:8080/"
        },
        "id": "hmBumux-VY1O",
        "outputId": "8c26e3bd-6fd9-49ae-a767-a6ea80b38499"
      },
      "outputs": [
        {
          "output_type": "stream",
          "name": "stdout",
          "text": [
            "[45, 20, 47, 19, 29, 67, 78, 90]\n"
          ]
        }
      ],
      "source": [
        "ejer_5 = [20, 47, 19, 29, 45, 67, 78, 90]\n",
        "ejer_5.index(45)\n",
        "ejer_5.pop(4)\n",
        "ejer_5.insert(0,45)\n",
        "print(ejer_5)"
      ]
    },
    {
      "cell_type": "markdown",
      "metadata": {
        "id": "WRDDO270VY1O"
      },
      "source": [
        "### Ejercicio 6\n"
      ]
    },
    {
      "cell_type": "markdown",
      "metadata": {
        "id": "B7Guhe2wVY1P"
      },
      "source": [
        "![ejercicio.png](attachment:ejercicio.png)"
      ]
    },
    {
      "cell_type": "markdown",
      "metadata": {
        "id": "EiT09nduVY1P"
      },
      "source": [
        "\n",
        "Obten el tercer elemento de la siguiente tupla, y el tercero empezando por la cola\n",
        "> ```ejer_6 = (3, 20, 3, 47, 19, 3, 29, 45, 67, 78, 90, 3, 3)```"
      ]
    },
    {
      "cell_type": "code",
      "execution_count": null,
      "metadata": {
        "colab": {
          "base_uri": "https://localhost:8080/"
        },
        "id": "YYqAMdteVY1P",
        "outputId": "9e64b6df-f117-41ab-de48-d8f156c2d28e"
      },
      "outputs": [
        {
          "output_type": "stream",
          "name": "stdout",
          "text": [
            "3\n",
            "90\n"
          ]
        }
      ],
      "source": [
        "ejer_6 = (3, 20, 3, 47, 19, 3, 29, 45, 67, 78, 90, 3, 3)\n",
        "print(ejer_6[2])\n",
        "print(ejer_6[-3])"
      ]
    },
    {
      "cell_type": "markdown",
      "metadata": {
        "id": "bUkxDecAVY1P"
      },
      "source": [
        "### Ejercicio 7\n"
      ]
    },
    {
      "cell_type": "markdown",
      "metadata": {
        "id": "tmkujrgVVY1P"
      },
      "source": [
        "![ejercicio.png](attachment:ejercicio.png)"
      ]
    },
    {
      "cell_type": "markdown",
      "metadata": {
        "id": "PdNRnGltVY1P"
      },
      "source": [
        "Dada la siguiente lista, elimina todos los valores iguales a 3\n",
        "> ```ejer_7 = [3, 20, 3, 47, 19, 3, 29, 45, 67, 78, 90, 3, 3]```\n",
        "\n",
        "TIP: No intentes eliminar elementos sobre la lista que estás iterando. Haz una copia con `ejer_7.copy()`."
      ]
    },
    {
      "cell_type": "code",
      "execution_count": null,
      "metadata": {
        "colab": {
          "base_uri": "https://localhost:8080/"
        },
        "id": "2TVJ67nzVY1Q",
        "outputId": "4faaa2b8-1a47-42c8-a25d-6c7f40d799f5"
      },
      "outputs": [
        {
          "output_type": "stream",
          "name": "stdout",
          "text": [
            "[3, 20, 3, 47, 19, 3, 29, 45, 67, 78, 90, 3, 3]\n"
          ]
        }
      ],
      "source": [
        "ejer_7 = [3, 20, 3, 47, 19, 3, 29, 45, 67, 78, 90, 3, 3]\n",
        "ejer_8 = ejer_7.copy()\n",
        "print(ejer_8)"
      ]
    },
    {
      "cell_type": "code",
      "source": [
        "ejer_8 = [3, 20, 3, 47, 19, 3, 29, 45, 67, 78, 90, 3, 3]\n",
        "for i in ejer_8:\n",
        "  if i == \"3\":\n",
        "    ejer_8 = ejer_8.remove(i)\n",
        "    print(ejer_8)\n",
        "  else:\n",
        "    print(ejer_8)\n"
      ],
      "metadata": {
        "colab": {
          "base_uri": "https://localhost:8080/"
        },
        "id": "n7XP_pxorjER",
        "outputId": "78407a65-9ea4-42ec-e32d-fdf6a04d3a92"
      },
      "execution_count": null,
      "outputs": [
        {
          "output_type": "stream",
          "name": "stdout",
          "text": [
            "[3, 20, 3, 47, 19, 3, 29, 45, 67, 78, 90, 3, 3]\n",
            "[3, 20, 3, 47, 19, 3, 29, 45, 67, 78, 90, 3, 3]\n",
            "[3, 20, 3, 47, 19, 3, 29, 45, 67, 78, 90, 3, 3]\n",
            "[3, 20, 3, 47, 19, 3, 29, 45, 67, 78, 90, 3, 3]\n",
            "[3, 20, 3, 47, 19, 3, 29, 45, 67, 78, 90, 3, 3]\n",
            "[3, 20, 3, 47, 19, 3, 29, 45, 67, 78, 90, 3, 3]\n",
            "[3, 20, 3, 47, 19, 3, 29, 45, 67, 78, 90, 3, 3]\n",
            "[3, 20, 3, 47, 19, 3, 29, 45, 67, 78, 90, 3, 3]\n",
            "[3, 20, 3, 47, 19, 3, 29, 45, 67, 78, 90, 3, 3]\n",
            "[3, 20, 3, 47, 19, 3, 29, 45, 67, 78, 90, 3, 3]\n",
            "[3, 20, 3, 47, 19, 3, 29, 45, 67, 78, 90, 3, 3]\n",
            "[3, 20, 3, 47, 19, 3, 29, 45, 67, 78, 90, 3, 3]\n",
            "[3, 20, 3, 47, 19, 3, 29, 45, 67, 78, 90, 3, 3]\n"
          ]
        }
      ]
    },
    {
      "cell_type": "code",
      "source": [],
      "metadata": {
        "id": "Wax8IoXdr2HH"
      },
      "execution_count": null,
      "outputs": []
    }
  ],
  "metadata": {
    "kernelspec": {
      "display_name": "Curso_Online_DATA",
      "language": "python",
      "name": "python3"
    },
    "language_info": {
      "codemirror_mode": {
        "name": "ipython",
        "version": 3
      },
      "file_extension": ".py",
      "mimetype": "text/x-python",
      "name": "python",
      "nbconvert_exporter": "python",
      "pygments_lexer": "ipython3",
      "version": "3.11.4"
    },
    "orig_nbformat": 4,
    "colab": {
      "provenance": []
    }
  },
  "nbformat": 4,
  "nbformat_minor": 0
}