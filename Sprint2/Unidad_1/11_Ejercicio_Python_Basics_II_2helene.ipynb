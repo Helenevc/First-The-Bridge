{
  "cells": [
    {
      "cell_type": "markdown",
      "metadata": {
        "id": "F5CyHmwWjRes"
      },
      "source": [
        "![TheBridge_logo_RGB_color.jpg](attachment:TheBridge_logo_RGB_color.jpg)"
      ]
    },
    {
      "cell_type": "markdown",
      "metadata": {
        "id": "8PdYkS7gjReu"
      },
      "source": [
        "![ejercicios.png](attachment:ejercicios.png)"
      ]
    },
    {
      "cell_type": "markdown",
      "metadata": {
        "id": "B9BPRmC9jRev"
      },
      "source": [
        "## EJERCICIOS PYTHON BASICO II\n",
        "## DICCIONARIOS Y SETS"
      ]
    },
    {
      "cell_type": "markdown",
      "metadata": {
        "id": "0U6axqk-jRew"
      },
      "source": [
        "Para ejercitarte y afianzar lo aprendido sobre diccionarios y sets, completa los siguiente ejercicios.\n",
        "  \n",
        "La solución a los mismos se publicarán en el repo del curso a lo largo del sprint."
      ]
    },
    {
      "cell_type": "markdown",
      "metadata": {
        "id": "ptuzy9cbjRew"
      },
      "source": [
        "## Contenidos"
      ]
    },
    {
      "cell_type": "markdown",
      "metadata": {
        "id": "808HLIx8jRex"
      },
      "source": [
        "### Ejercicio 1"
      ]
    },
    {
      "cell_type": "markdown",
      "metadata": {
        "id": "TuN30NpujRex"
      },
      "source": [
        "![ejercicio.png](attachment:ejercicio.png)"
      ]
    },
    {
      "cell_type": "markdown",
      "metadata": {
        "id": "qC0g6vCljRey"
      },
      "source": [
        "Convierte la siguiente tupla en un diccionario\n",
        "> ```ejer_1 = [(\"x\", 1), (\"x\", 2), (\"x\", 3), (\"y\", 1), (\"y\", 2), (\"z\", 1)]```\n",
        "\n",
        "TIP: Puedes usar dos variables de control en un bucle `for`. Una por cada valor de las tuplas."
      ]
    },
    {
      "cell_type": "code",
      "execution_count": null,
      "metadata": {
        "colab": {
          "base_uri": "https://localhost:8080/"
        },
        "id": "jQePszLIjRey",
        "outputId": "0c7d3d65-8fbc-42b7-8e87-ce4adbce7450"
      },
      "outputs": [
        {
          "output_type": "stream",
          "name": "stdout",
          "text": [
            "(('x', 1), ('x', 2), ('x', 3), ('y', 1), ('y', 2), ('z', 1))\n",
            "x : 1\n",
            "x : 2\n",
            "x : 3\n",
            "y : 1\n",
            "y : 2\n",
            "z : 1\n",
            "{'x': 3, 'y': 2, 'z': 1} <class 'dict'>\n"
          ]
        }
      ],
      "source": [
        "ejer_1 = [(\"x\", 1), (\"x\", 2), (\"x\", 3), (\"y\", 1), (\"y\", 2), (\"z\", 1)]\n",
        "lista_ejer_1 = tuple(ejer_1)\n",
        "print(lista_ejer_1)\n",
        "for clave,valor in lista_ejer_1:\n",
        "  print(clave, \":\", valor)\n",
        "dict_ejer_1 = dict(lista_ejer_1)\n",
        "print(dict_ejer_1, type(dict_ejer_1))"
      ]
    },
    {
      "cell_type": "markdown",
      "metadata": {
        "id": "vowHtYkRjRez"
      },
      "source": [
        "### Ejercicio 2"
      ]
    },
    {
      "cell_type": "markdown",
      "metadata": {
        "id": "_elIyuN9jRez"
      },
      "source": [
        "![ejercicio.png](attachment:ejercicio.png)"
      ]
    },
    {
      "cell_type": "markdown",
      "metadata": {
        "id": "jDs73m9DjRez"
      },
      "source": [
        "\n",
        "1. Crea una lista ordenada ascendente con las claves del diccionario\n",
        "2. Crea otra lista ordenada descendente con los valores\n",
        "3. Añade una nueva clave/valor\n",
        "4. Busca la clave 2 dentro del diccionario\n",
        "5. Itera la clave y el valor del diccionario con un unico for\n",
        "> ```ejer_2 = {4:78, 2:98, 8:234, 5:29}```\n"
      ]
    },
    {
      "cell_type": "code",
      "execution_count": null,
      "metadata": {
        "colab": {
          "base_uri": "https://localhost:8080/"
        },
        "id": "JoFqYzAGjRez",
        "outputId": "28615ab9-4346-412d-a1d7-c1f5121e5b96"
      },
      "outputs": [
        {
          "output_type": "stream",
          "name": "stdout",
          "text": [
            "[4, 2, 8, 5] <class 'list'>\n",
            "None\n"
          ]
        }
      ],
      "source": [
        "ejer_2 = {4:78, 2:98, 8:234, 5:29}\n",
        "lista = list(ejer_2)\n",
        "print(lista, type(lista))\n",
        "ordenada = lista.sort()\n",
        "print(ordenada)"
      ]
    },
    {
      "cell_type": "code",
      "source": [
        "lista_ordenada = lista.sort()\n",
        "print(lista_ordenada)"
      ],
      "metadata": {
        "colab": {
          "base_uri": "https://localhost:8080/"
        },
        "id": "z1l0s1tJrMSo",
        "outputId": "41d23406-05c1-4f28-e8e1-f8aaa4beca6b"
      },
      "execution_count": null,
      "outputs": [
        {
          "output_type": "stream",
          "name": "stdout",
          "text": [
            "None\n"
          ]
        }
      ]
    },
    {
      "cell_type": "markdown",
      "metadata": {
        "id": "WtAD4wjBjRe0"
      },
      "source": [
        "### Ejercicio 3\n"
      ]
    },
    {
      "cell_type": "markdown",
      "metadata": {
        "id": "LmRXWexIjRe0"
      },
      "source": [
        "![ejercicio.png](attachment:ejercicio.png)"
      ]
    },
    {
      "cell_type": "markdown",
      "metadata": {
        "id": "AUhsuHI-jRe0"
      },
      "source": [
        "\n",
        "Junta ambos diccionarios de dos maneras diferentes.\n",
        "1. Utilizando `update`\n",
        "2. Utilizando un bucle\n",
        "\n",
        "> ```ejer_3_1 = {1: 11, 2: 22}```\n",
        ">\n",
        "> ```ejer_3_2 = {3: 33, 4: 44}```"
      ]
    },
    {
      "cell_type": "code",
      "execution_count": null,
      "metadata": {
        "colab": {
          "base_uri": "https://localhost:8080/",
          "height": 176
        },
        "id": "AKDD00PKjRe0",
        "outputId": "da05542c-98e0-43c5-9a62-9283a75f3fc6"
      },
      "outputs": [
        {
          "output_type": "error",
          "ename": "TypeError",
          "evalue": "unhashable type: 'slice'",
          "traceback": [
            "\u001b[0;31m---------------------------------------------------------------------------\u001b[0m",
            "\u001b[0;31mTypeError\u001b[0m                                 Traceback (most recent call last)",
            "\u001b[0;32m<ipython-input-37-144e0353c6a6>\u001b[0m in \u001b[0;36m<cell line: 0>\u001b[0;34m()\u001b[0m\n\u001b[1;32m      1\u001b[0m \u001b[0mejer_3_1\u001b[0m \u001b[0;34m=\u001b[0m \u001b[0;34m{\u001b[0m\u001b[0;36m1\u001b[0m\u001b[0;34m:\u001b[0m \u001b[0;36m11\u001b[0m\u001b[0;34m,\u001b[0m \u001b[0;36m2\u001b[0m\u001b[0;34m:\u001b[0m \u001b[0;36m22\u001b[0m\u001b[0;34m}\u001b[0m\u001b[0;34m\u001b[0m\u001b[0;34m\u001b[0m\u001b[0m\n\u001b[1;32m      2\u001b[0m \u001b[0mejer_3_2\u001b[0m \u001b[0;34m=\u001b[0m \u001b[0;34m{\u001b[0m\u001b[0;36m3\u001b[0m\u001b[0;34m:\u001b[0m \u001b[0;36m33\u001b[0m\u001b[0;34m,\u001b[0m \u001b[0;36m4\u001b[0m\u001b[0;34m:\u001b[0m \u001b[0;36m44\u001b[0m\u001b[0;34m}\u001b[0m\u001b[0;34m\u001b[0m\u001b[0;34m\u001b[0m\u001b[0m\n\u001b[0;32m----> 3\u001b[0;31m \u001b[0mejer_junto\u001b[0m \u001b[0;34m=\u001b[0m \u001b[0mejer_3_1\u001b[0m\u001b[0;34m[\u001b[0m\u001b[0;36m3\u001b[0m\u001b[0;34m:\u001b[0m\u001b[0;36m33\u001b[0m\u001b[0;34m]\u001b[0m\u001b[0;34m\u001b[0m\u001b[0;34m\u001b[0m\u001b[0m\n\u001b[0m",
            "\u001b[0;31mTypeError\u001b[0m: unhashable type: 'slice'"
          ]
        }
      ],
      "source": [
        "ejer_3_1 = {1: 11, 2: 22}\n",
        "ejer_3_2 = {3: 33, 4: 44}\n",
        "ejer_junto = ejer_3_1[3:33]\n"
      ]
    },
    {
      "cell_type": "markdown",
      "metadata": {
        "id": "vFnP00f6jRe0"
      },
      "source": [
        "### Ejercicio 4"
      ]
    },
    {
      "cell_type": "markdown",
      "metadata": {
        "id": "es8Ev_EmjRe0"
      },
      "source": [
        "![ejercicio.png](attachment:ejercicio.png)"
      ]
    },
    {
      "cell_type": "markdown",
      "metadata": {
        "id": "cRmrikQWjRe0"
      },
      "source": [
        "\n",
        "1. Crea un set de tres elementos\n",
        "2. Añade un cuarto\n",
        "3. Elimina el utlimo elemento añadido\n",
        "4. Elimina el elemento 10, si está presente. Usa `discard()`"
      ]
    },
    {
      "cell_type": "code",
      "execution_count": null,
      "metadata": {
        "id": "AW2U2m7sjRe0"
      },
      "outputs": [],
      "source": [
        "set = {\"rojo\",\"verde\",\"azul\"}\n",
        "set.add(\"amarillo\")\n",
        "print(set)\n"
      ]
    },
    {
      "cell_type": "code",
      "source": [
        "set.remove(\"amarillo\")\n",
        "print(set)"
      ],
      "metadata": {
        "id": "a6TObCcnFaO9"
      },
      "execution_count": null,
      "outputs": []
    },
    {
      "cell_type": "code",
      "source": [
        "set.discard(9)\n",
        "print(set)"
      ],
      "metadata": {
        "id": "m05_ukBVFaje"
      },
      "execution_count": null,
      "outputs": []
    },
    {
      "cell_type": "code",
      "source": [],
      "metadata": {
        "id": "QkmARlvvFa4d"
      },
      "execution_count": null,
      "outputs": []
    },
    {
      "cell_type": "markdown",
      "metadata": {
        "id": "9jhXywTMjRe1"
      },
      "source": [
        "### Ejercicio 5"
      ]
    },
    {
      "cell_type": "markdown",
      "metadata": {
        "id": "BSYVZHtKjRe1"
      },
      "source": [
        "![ejercicio.png](attachment:ejercicio.png)"
      ]
    },
    {
      "cell_type": "markdown",
      "metadata": {
        "id": "C0hegbq1jRe1"
      },
      "source": [
        "Suma todos los valores del dicionario\n",
        "> ```ejer_5 = {1: 11, 2: 22, 3: 33, 4: 44, 5: 55}```"
      ]
    },
    {
      "cell_type": "code",
      "execution_count": null,
      "metadata": {
        "id": "S3LQgsoMjRe1"
      },
      "outputs": [],
      "source": [
        "ejer_5 = {1: 11, 2: 22, 3: 33, 4: 44, 5: 55}\n",
        "ejer_5 = int(ejer_5)"
      ]
    },
    {
      "cell_type": "markdown",
      "metadata": {
        "id": "XF_9pDBzjRe1"
      },
      "source": [
        "### Ejercicio 6\n"
      ]
    },
    {
      "cell_type": "markdown",
      "metadata": {
        "id": "iD89aWLKjRe1"
      },
      "source": [
        "![ejercicio.png](attachment:ejercicio.png)"
      ]
    },
    {
      "cell_type": "markdown",
      "metadata": {
        "id": "Jv16XRbcjRe1"
      },
      "source": [
        "\n",
        "Elimina los duplicados de la siguiente lista utilizando un set como instrumento intermedio.\n",
        "\n",
        ">```ejer_6 = [11, 2, 4.5, [\"esto\", \"es\"], 3, 4.5, [\"esto\",\"es\"], \"quizás\", True, True, 11]```"
      ]
    },
    {
      "cell_type": "code",
      "execution_count": null,
      "metadata": {
        "id": "vbUP_eC8jRe1",
        "colab": {
          "base_uri": "https://localhost:8080/",
          "height": 158
        },
        "outputId": "b905be4a-a9c8-4127-e812-77a5a535b87e"
      },
      "outputs": [
        {
          "output_type": "error",
          "ename": "TypeError",
          "evalue": "unhashable type: 'list'",
          "traceback": [
            "\u001b[0;31m---------------------------------------------------------------------------\u001b[0m",
            "\u001b[0;31mTypeError\u001b[0m                                 Traceback (most recent call last)",
            "\u001b[0;32m<ipython-input-1-4906d8f835cf>\u001b[0m in \u001b[0;36m<cell line: 0>\u001b[0;34m()\u001b[0m\n\u001b[1;32m      1\u001b[0m \u001b[0mejer_6\u001b[0m \u001b[0;34m=\u001b[0m \u001b[0;34m[\u001b[0m\u001b[0;36m11\u001b[0m\u001b[0;34m,\u001b[0m \u001b[0;36m2\u001b[0m\u001b[0;34m,\u001b[0m \u001b[0;36m4.5\u001b[0m\u001b[0;34m,\u001b[0m \u001b[0;34m[\u001b[0m\u001b[0;34m\"esto\"\u001b[0m\u001b[0;34m,\u001b[0m \u001b[0;34m\"es\"\u001b[0m\u001b[0;34m]\u001b[0m\u001b[0;34m,\u001b[0m \u001b[0;36m3\u001b[0m\u001b[0;34m,\u001b[0m \u001b[0;36m4.5\u001b[0m\u001b[0;34m,\u001b[0m \u001b[0;34m[\u001b[0m\u001b[0;34m\"esto\"\u001b[0m\u001b[0;34m,\u001b[0m\u001b[0;34m\"es\"\u001b[0m\u001b[0;34m]\u001b[0m\u001b[0;34m,\u001b[0m \u001b[0;34m\"quizás\"\u001b[0m\u001b[0;34m,\u001b[0m \u001b[0;32mTrue\u001b[0m\u001b[0;34m,\u001b[0m \u001b[0;32mTrue\u001b[0m\u001b[0;34m,\u001b[0m \u001b[0;36m11\u001b[0m\u001b[0;34m]\u001b[0m\u001b[0;34m\u001b[0m\u001b[0;34m\u001b[0m\u001b[0m\n\u001b[0;32m----> 2\u001b[0;31m \u001b[0mprint\u001b[0m\u001b[0;34m(\u001b[0m\u001b[0mset\u001b[0m\u001b[0;34m(\u001b[0m\u001b[0mejer_6\u001b[0m\u001b[0;34m)\u001b[0m\u001b[0;34m)\u001b[0m\u001b[0;34m\u001b[0m\u001b[0;34m\u001b[0m\u001b[0m\n\u001b[0m",
            "\u001b[0;31mTypeError\u001b[0m: unhashable type: 'list'"
          ]
        }
      ],
      "source": [
        "ejer_6 = [11, 2, 4.5, [\"esto\", \"es\"], 3, 4.5, [\"esto\",\"es\"], \"quizás\", True, True, 11]\n",
        "print(set(ejer_6))"
      ]
    },
    {
      "cell_type": "code",
      "source": [
        "ejer_6 = [11, 2, 4.5, [\"esto\", \"es\"], 3, 4.5, [\"esto\",\"es\"], \"quizás\", True, True, 11]\n",
        "ejer_6 = set(ejer_6)\n",
        "print(ejer_6,(type(ejer_6))"
      ],
      "metadata": {
        "id": "6BWDRsu6HNGl",
        "colab": {
          "base_uri": "https://localhost:8080/",
          "height": 106
        },
        "outputId": "12a3dab2-55c4-40d6-baf2-cba34563b18b"
      },
      "execution_count": null,
      "outputs": [
        {
          "output_type": "error",
          "ename": "SyntaxError",
          "evalue": "incomplete input (<ipython-input-5-4df9322a8d49>, line 3)",
          "traceback": [
            "\u001b[0;36m  File \u001b[0;32m\"<ipython-input-5-4df9322a8d49>\"\u001b[0;36m, line \u001b[0;32m3\u001b[0m\n\u001b[0;31m    print(ejer_6,(type(ejer_6))\u001b[0m\n\u001b[0m                               ^\u001b[0m\n\u001b[0;31mSyntaxError\u001b[0m\u001b[0;31m:\u001b[0m incomplete input\n"
          ]
        }
      ]
    }
  ],
  "metadata": {
    "kernelspec": {
      "display_name": "Curso_Online_DATA",
      "language": "python",
      "name": "python3"
    },
    "language_info": {
      "codemirror_mode": {
        "name": "ipython",
        "version": 3
      },
      "file_extension": ".py",
      "mimetype": "text/x-python",
      "name": "python",
      "nbconvert_exporter": "python",
      "pygments_lexer": "ipython3",
      "version": "3.11.5"
    },
    "orig_nbformat": 4,
    "colab": {
      "provenance": []
    }
  },
  "nbformat": 4,
  "nbformat_minor": 0
}