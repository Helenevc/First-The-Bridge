{
  "cells": [
    {
      "cell_type": "markdown",
      "metadata": {
        "id": "EQGBlCnaWr4n"
      },
      "source": [
        "![TheBridge_logo_RGB_color.jpg](attachment:TheBridge_logo_RGB_color.jpg)"
      ]
    },
    {
      "cell_type": "markdown",
      "metadata": {
        "id": "qEdrqIzVWr4o"
      },
      "source": [
        "![ejercicios.png](attachment:ejercicios.png)"
      ]
    },
    {
      "cell_type": "markdown",
      "metadata": {
        "id": "LDRZzzOTWr4o"
      },
      "source": [
        "## PRACTICA OBLIGATORIA: COLECCIONES Y FUNCIONES"
      ]
    },
    {
      "cell_type": "markdown",
      "metadata": {
        "id": "Cl7w2QeoWr4p"
      },
      "source": [
        "* La práctica obligatoria de esta unidad consiste varios ejercicios de programación libre a completar sobre Colecciones y Funciones. Descarga este notebook en tu ordenador y trabaja en local.  \n",
        "* Recuerda que debes subirla a tu repositorio personal antes de la sesión en vivo para que puntúe adecuadamente y puedas participar en dicha sesión.  \n",
        "* Recuerda también que no es necesario que esté perfecta, sólo es necesario que se vea el esfuerzo.\n",
        "* Esta práctica se resolverá en la sesión en vivo correspondiente y la solución se publicará en el repo del curso."
      ]
    },
    {
      "cell_type": "markdown",
      "metadata": {
        "id": "WaAyeNb8Wr4p"
      },
      "source": [
        "### Contenidos"
      ]
    },
    {
      "cell_type": "markdown",
      "metadata": {
        "id": "gBf7HbjSWr4p"
      },
      "source": [
        "## Ejercicio 1\n",
        "Eleva todos los elementos de la lista al cuadrado\n",
        "> ```ejer_2 = [1,2,3,4,5]```"
      ]
    },
    {
      "cell_type": "code",
      "execution_count": 15,
      "metadata": {
        "colab": {
          "base_uri": "https://localhost:8080/"
        },
        "id": "1ZhUrlIDWr4q",
        "outputId": "6f349da5-e383-4aca-8abd-4acac6fbbe8b"
      },
      "outputs": [
        {
          "output_type": "stream",
          "name": "stdout",
          "text": [
            "25\n"
          ]
        }
      ],
      "source": [
        "ejer_2 = [1,2,3,4,5]\n",
        "ejer_3 = tuple(ejer_2)\n",
        "def subir_al_cuadrado(ejer_3):\n",
        "  for n in ejer_3:\n",
        "    resultado = n**2\n",
        "  print(resultado)\n",
        "subir_al_cuadrado(ejer_3)"
      ]
    },
    {
      "cell_type": "markdown",
      "metadata": {
        "id": "UcjyeC9UWr4q"
      },
      "source": [
        "## Ejercicio 2\n",
        "Haz un programa que detecte todos los duplicados de un elemento en una lista:\n",
        "* Utiliza una variable duplicado para asignarle el valor del elemento del que queremos encontrar todos sus duplicados.\n",
        "* El programa debe devolver todos los índices de los elementos duplicados.\n",
        "* Aplícalo para encontrar los duplicados de \"un\", \"es\" y \"binario\" de:  \n",
        "\n",
        ">```ejer_3 = [\"Un\", \"árbol\", \"binario\", \"es\", \"una\", \"estructura\", \"de\", \"un\", \"tipo\", \"particular\", \"a\", \"veces\", \"no\", \"es\", \"ni\", \"binario\"]```\n"
      ]
    },
    {
      "cell_type": "code",
      "execution_count": 21,
      "metadata": {
        "colab": {
          "base_uri": "https://localhost:8080/",
          "height": 228
        },
        "id": "sZzoJHkyWr4q",
        "outputId": "80cb8d1d-f4be-405d-d7ea-4483183a4c2d"
      },
      "outputs": [
        {
          "output_type": "stream",
          "name": "stdout",
          "text": [
            "<built-in method index of list object at 0x7d211c402fc0>\n",
            "['una', 'un', 'estructura', 'particular', 'es', 'Un', 'veces', 'no', 'binario', 'ni', 'a', 'de', 'árbol', 'tipo'] <class 'list'>\n"
          ]
        },
        {
          "output_type": "error",
          "ename": "NameError",
          "evalue": "name 'cmp' is not defined",
          "traceback": [
            "\u001b[0;31m---------------------------------------------------------------------------\u001b[0m",
            "\u001b[0;31mNameError\u001b[0m                                 Traceback (most recent call last)",
            "\u001b[0;32m<ipython-input-21-369139f0d169>\u001b[0m in \u001b[0;36m<cell line: 0>\u001b[0;34m()\u001b[0m\n\u001b[1;32m      4\u001b[0m \u001b[0mejer_4\u001b[0m \u001b[0;34m=\u001b[0m \u001b[0mlist\u001b[0m\u001b[0;34m(\u001b[0m\u001b[0mset\u001b[0m\u001b[0;34m(\u001b[0m\u001b[0mejer_3\u001b[0m\u001b[0;34m)\u001b[0m\u001b[0;34m)\u001b[0m\u001b[0;34m\u001b[0m\u001b[0;34m\u001b[0m\u001b[0m\n\u001b[1;32m      5\u001b[0m \u001b[0mprint\u001b[0m\u001b[0;34m(\u001b[0m\u001b[0mejer_4\u001b[0m\u001b[0;34m,\u001b[0m \u001b[0mtype\u001b[0m\u001b[0;34m(\u001b[0m\u001b[0mejer_3\u001b[0m\u001b[0;34m)\u001b[0m\u001b[0;34m)\u001b[0m\u001b[0;34m\u001b[0m\u001b[0;34m\u001b[0m\u001b[0m\n\u001b[0;32m----> 6\u001b[0;31m \u001b[0mejer_5\u001b[0m \u001b[0;34m=\u001b[0m \u001b[0mcmp\u001b[0m\u001b[0;34m(\u001b[0m\u001b[0mejer_3\u001b[0m\u001b[0;34m,\u001b[0m\u001b[0mejer_4\u001b[0m\u001b[0;34m)\u001b[0m\u001b[0;34m\u001b[0m\u001b[0;34m\u001b[0m\u001b[0m\n\u001b[0m\u001b[1;32m      7\u001b[0m \u001b[0mprint\u001b[0m\u001b[0;34m(\u001b[0m\u001b[0mejer_5\u001b[0m\u001b[0;34m)\u001b[0m\u001b[0;34m\u001b[0m\u001b[0;34m\u001b[0m\u001b[0m\n",
            "\u001b[0;31mNameError\u001b[0m: name 'cmp' is not defined"
          ]
        }
      ],
      "source": [
        "ejer_3 = [\"Un\", \"árbol\", \"binario\", \"es\", \"una\", \"estructura\", \"de\", \"un\", \"tipo\", \"particular\", \"a\", \"veces\", \"no\", \"es\", \"ni\", \"binario\"]\n",
        "ejer_3_indice = ejer_3.index #test no da nada\n",
        "print(ejer_3_indice) #test no da nada\n",
        "ejer_4 = list(set(ejer_3))\n",
        "print(ejer_4, type(ejer_3))\n",
        "print(ejer_5)"
      ]
    },
    {
      "cell_type": "code",
      "source": [
        "ejer_3 = [\"Un\", \"árbol\", \"binario\", \"es\", \"una\", \"estructura\", \"de\", \"un\", \"tipo\", \"particular\", \"a\", \"veces\", \"no\", \"es\", \"ni\", \"binario\"]\n",
        "reduced = list(set(ejer_3))\n",
        "#print(len(ejer_3))\n",
        "#print(len(reduced_list))\n",
        "new_list = []\n",
        "duplicated_list =[]\n",
        "for n in ejer_3:\n",
        "  if n not in new_list:\n",
        "    new_list.append(n)\n",
        "  else:\n",
        "    duplicated_list.append(n)\n",
        "print(new_list)\n",
        "print(duplicated_list)"
      ],
      "metadata": {
        "colab": {
          "base_uri": "https://localhost:8080/"
        },
        "id": "j9p7HoqlkV3z",
        "outputId": "fbd062f6-6593-4062-f3ea-be46ff389029"
      },
      "execution_count": 83,
      "outputs": [
        {
          "output_type": "stream",
          "name": "stdout",
          "text": [
            "['Un', 'árbol', 'binario', 'es', 'una', 'estructura', 'de', 'un', 'tipo', 'particular', 'a', 'veces', 'no', 'ni']\n",
            "['es', 'binario']\n"
          ]
        }
      ]
    },
    {
      "cell_type": "code",
      "source": [
        "ejer_3.index(\"es\")\n",
        "for n in duplicated_list:\n",
        "  indice = ejer_3.index(n)\n",
        "  print(indice)\n",
        "\n",
        ""
      ],
      "metadata": {
        "colab": {
          "base_uri": "https://localhost:8080/"
        },
        "id": "ntDIkp25kYbT",
        "outputId": "09598bf2-6fbc-4b23-9fa3-46ac38373ac1"
      },
      "execution_count": 103,
      "outputs": [
        {
          "output_type": "stream",
          "name": "stdout",
          "text": [
            "3\n",
            "2\n"
          ]
        }
      ]
    },
    {
      "cell_type": "markdown",
      "metadata": {
        "id": "01SZG8d6Wr4q"
      },
      "source": [
        "## Ejercicio 3\n",
        "1. ¿Cuántas veces se repite el 3 en la siguiente tupla?\n",
        "2. Crea una tupla nueva con los elementos desde la posicion 5 a la 10.\n",
        "3. ¿Cuántos elementos tiene la tupla `ejer_9`?\n",
        "> ```ejer_9 = (3, 20, 3, 47, 19, 3, 29, 45, 67, 78, 90, 3, 3, 5, 2, 4, 7, 9, 4, 2, 4, 3, 3, 4, 6, 7)```"
      ]
    },
    {
      "cell_type": "code",
      "source": [
        "ejer_9 = (3, 20, 3, 47, 19, 3, 29, 45, 67, 78, 90, 3, 3, 5, 2, 4, 7, 9, 4, 2, 4, 3, 3, 4, 6, 7)\n",
        "ejer_9 = list(ejer_9)\n",
        "print(ejer_9.count(3))"
      ],
      "metadata": {
        "colab": {
          "base_uri": "https://localhost:8080/"
        },
        "id": "-wSVDQNFLWhb",
        "outputId": "6cb56ef4-8ec9-49f6-afff-d151b1badaeb"
      },
      "execution_count": 107,
      "outputs": [
        {
          "output_type": "stream",
          "name": "stdout",
          "text": [
            "7\n"
          ]
        }
      ]
    },
    {
      "cell_type": "code",
      "source": [
        "ejer_9 = (3, 20, 3, 47, 19, 3, 29, 45, 67, 78, 90, 3, 3, 5, 2, 4, 7, 9, 4, 2, 4, 3, 3, 4, 6, 7)\n",
        "nueva_tupla = list(ejer_9)\n",
        "nueva_tupla = nueva_tupla[5:11]\n",
        "nueva_tupla = tuple(nueva_tupla)\n",
        "print(nueva_tupla)"
      ],
      "metadata": {
        "colab": {
          "base_uri": "https://localhost:8080/"
        },
        "id": "Na7m-BVRgNP1",
        "outputId": "866cf310-46b2-4deb-fc40-17d03b932dd7"
      },
      "execution_count": 38,
      "outputs": [
        {
          "output_type": "stream",
          "name": "stdout",
          "text": [
            "(3, 29, 45, 67, 78, 90)\n"
          ]
        }
      ]
    },
    {
      "cell_type": "code",
      "execution_count": 22,
      "metadata": {
        "colab": {
          "base_uri": "https://localhost:8080/"
        },
        "id": "H4jKhyNOWr4r",
        "outputId": "297a3f12-ed5e-4f49-a22e-f9c668fd77cc"
      },
      "outputs": [
        {
          "output_type": "stream",
          "name": "stdout",
          "text": [
            "26\n"
          ]
        }
      ],
      "source": [
        "ejer_9 = (3, 20, 3, 47, 19, 3, 29, 45, 67, 78, 90, 3, 3, 5, 2, 4, 7, 9, 4, 2, 4, 3, 3, 4, 6, 7)\n",
        "print(len(ejer_9))"
      ]
    },
    {
      "cell_type": "markdown",
      "metadata": {
        "id": "m5xOhoVIWr4r"
      },
      "source": [
        "## Ejercicio 4\n",
        "Comprueba si el numero 60 esta en la tupla del ejercicio 3"
      ]
    },
    {
      "cell_type": "code",
      "execution_count": 62,
      "metadata": {
        "colab": {
          "base_uri": "https://localhost:8080/"
        },
        "id": "iQKcn_axWr4r",
        "outputId": "1e11c900-6aec-42ac-b2c7-870d762b68ae"
      },
      "outputs": [
        {
          "output_type": "stream",
          "name": "stdout",
          "text": [
            "No hay el numero 60  en la lista\n"
          ]
        }
      ],
      "source": [
        "x = 60\n",
        "ejer_9 = (3, 20, 3, 47, 19, 3, 29, 45, 67, 78, 90, 3, 3, 5, 2, 4, 7, 9, 4, 2, 4, 3, 3, 4, 6, 7)\n",
        "if x in ejer_9:\n",
        "    print(True)\n",
        "else:\n",
        "    print(\"No hay el numero\", x, \" en la lista\")"
      ]
    },
    {
      "cell_type": "markdown",
      "metadata": {
        "id": "i2YFdnXdWr4r"
      },
      "source": [
        "## Ejercicio 5\n",
        "1. Convierte la tupla del ejercicio 3 en una lista\n",
        "2. Convierte la tupla del ejercicio 3 en un set\n",
        "3. Convierte la tupla del ejercicio 3 en un diccionario. Usa también los indices"
      ]
    },
    {
      "cell_type": "code",
      "execution_count": 63,
      "metadata": {
        "colab": {
          "base_uri": "https://localhost:8080/"
        },
        "id": "89NforbCWr4r",
        "outputId": "53697d77-7160-4158-d5fd-e29a861d5c63"
      },
      "outputs": [
        {
          "output_type": "stream",
          "name": "stdout",
          "text": [
            "<class 'list'> [3, 20, 3, 47, 19, 3, 29, 45, 67, 78, 90, 3, 3, 5, 2, 4, 7, 9, 4, 2, 4, 3, 3, 4, 6, 7]\n"
          ]
        }
      ],
      "source": [
        "ejer_9 = (3, 20, 3, 47, 19, 3, 29, 45, 67, 78, 90, 3, 3, 5, 2, 4, 7, 9, 4, 2, 4, 3, 3, 4, 6, 7)\n",
        "lista = list(ejer_9)\n",
        "print(type(lista),lista)"
      ]
    },
    {
      "cell_type": "code",
      "source": [
        "ejer_9 = (3, 20, 3, 47, 19, 3, 29, 45, 67, 78, 90, 3, 3, 5, 2, 4, 7, 9, 4, 2, 4, 3, 3, 4, 6, 7)\n",
        "set = set(ejer_9)\n",
        "print(type(set),set)"
      ],
      "metadata": {
        "colab": {
          "base_uri": "https://localhost:8080/"
        },
        "id": "lHXIKkwgH7tl",
        "outputId": "4ab3dbf4-0092-419d-b51c-3c6101f96e3b"
      },
      "execution_count": 64,
      "outputs": [
        {
          "output_type": "stream",
          "name": "stdout",
          "text": [
            "<class 'set'> {2, 3, 67, 5, 4, 7, 6, 9, 45, 78, 47, 19, 20, 90, 29}\n"
          ]
        }
      ]
    },
    {
      "cell_type": "code",
      "source": [
        "ejer_9 = (3, 20, 3, 47, 19, 3, 29, 45, 67, 78, 90, 3, 3, 5, 2, 4, 7, 9, 4, 2, 4, 3, 3, 4, 6, 7)\n",
        "indices = (1,2,3,4,5,6,7,8,9,10,11,12,13,14,15,16,17,18,19,20,21,22,23,24,25,26)\n",
        "dictionario = {ejer_9,indices}\n",
        "print(dictionario)"
      ],
      "metadata": {
        "colab": {
          "base_uri": "https://localhost:8080/"
        },
        "id": "Q5cGANvWIPXN",
        "outputId": "0336f603-a11b-42a0-f093-6891756f11e9"
      },
      "execution_count": 111,
      "outputs": [
        {
          "output_type": "stream",
          "name": "stdout",
          "text": [
            "{(3, 20, 3, 47, 19, 3, 29, 45, 67, 78, 90, 3, 3, 5, 2, 4, 7, 9, 4, 2, 4, 3, 3, 4, 6, 7), (1, 2, 3, 4, 5, 6, 7, 8, 9, 10, 11, 12, 13, 14, 15, 16, 17, 18, 19, 20, 21, 22, 23, 24, 25, 26)}\n"
          ]
        }
      ]
    },
    {
      "cell_type": "code",
      "source": [],
      "metadata": {
        "id": "CeZAG0m8Mx6x"
      },
      "execution_count": 111,
      "outputs": []
    },
    {
      "cell_type": "markdown",
      "metadata": {
        "id": "9xMSAld9Wr4r"
      },
      "source": [
        "## Ejercicio 6\n",
        "Multiplica todos los valores del diccionario\n",
        "> ```ejer_6 = {1: 11, 2: 22, 3: 33, 4: 44, 5: 55}```"
      ]
    },
    {
      "cell_type": "code",
      "execution_count": 69,
      "metadata": {
        "colab": {
          "base_uri": "https://localhost:8080/"
        },
        "id": "TcUEsacDWr4r",
        "outputId": "442f694d-9fea-461e-c461-1f5ada7d9140"
      },
      "outputs": [
        {
          "output_type": "stream",
          "name": "stdout",
          "text": [
            "<class 'list'> [11, 22, 33, 44, 55]\n"
          ]
        }
      ],
      "source": [
        "ejer_6 = {1: 11, 2: 22, 3: 33, 4: 44, 5: 55}\n",
        "valores = ejer_6.values()\n",
        "valores = list(valores)\n",
        "  for n in valores:\n",
        "    resultado = n * [1]\n",
        "print(type(valores),valores)"
      ]
    },
    {
      "cell_type": "code",
      "source": [
        "ejer_6 = {1: 11, 2: 22, 3: 33, 4: 44, 5: 55}\n",
        "ejer_6.values()\n",
        "for n in ejer_6.values():\n",
        "  resultado = ejer_6[1]*ejer_6[2]*ejer_6[3]*ejer_6[4]*ejer_6[5]\n",
        "  print(resultado)"
      ],
      "metadata": {
        "colab": {
          "base_uri": "https://localhost:8080/"
        },
        "id": "E-LiGT4NAbVZ",
        "outputId": "d20d61be-105e-48dc-f6de-7e5be2970b7b"
      },
      "execution_count": 7,
      "outputs": [
        {
          "output_type": "stream",
          "name": "stdout",
          "text": [
            "19326120\n",
            "19326120\n",
            "19326120\n",
            "19326120\n",
            "19326120\n"
          ]
        }
      ]
    },
    {
      "cell_type": "code",
      "source": [
        "ejer_6 = {1: 11, 2: 22, 3: 33, 4: 44, 5: 55}\n",
        "resultado = ejer_6[1]*ejer_6[2]*ejer_6[3]*ejer_6[4]*ejer_6[5]\n",
        "print(resultado)"
      ],
      "metadata": {
        "colab": {
          "base_uri": "https://localhost:8080/"
        },
        "id": "FhxdZdrxCX5S",
        "outputId": "18096cd8-14da-494a-cbca-fa2bf43e9f0b"
      },
      "execution_count": 8,
      "outputs": [
        {
          "output_type": "stream",
          "name": "stdout",
          "text": [
            "19326120\n"
          ]
        }
      ]
    },
    {
      "cell_type": "markdown",
      "metadata": {
        "id": "rcoKX0PDWr4r"
      },
      "source": [
        "## Ejercicio 7\n",
        "\n",
        "1. Crea un diccionario que describa un libro, con los siguientes campos o claves: \"titulo\",\"autor\",\"idioma original\",\"año de publicación\".\n",
        "2. Crea un a lista, llamada librería.\n",
        "3. Añade cuatro libros a tu elección a la librería."
      ]
    },
    {
      "cell_type": "code",
      "execution_count": 31,
      "metadata": {
        "vscode": {
          "languageId": "plaintext"
        },
        "colab": {
          "base_uri": "https://localhost:8080/"
        },
        "id": "wprhXMFQWr4r",
        "outputId": "f1fa26b7-2683-4809-c4ad-7b795403133b"
      },
      "outputs": [
        {
          "output_type": "stream",
          "name": "stdout",
          "text": [
            "{'titulo': 'En el cielo', 'autor': 'A. Peter', 'idioma_original': 'EN', 'año_de_publicación': '1987'}\n"
          ]
        }
      ],
      "source": [
        "dictionario = {}\n",
        "dictionario[\"titulo\"] = \"En el cielo\"\n",
        "dictionario[\"autor\"] = \"A. Peter\"\n",
        "dictionario[\"idioma_original\"] = \"EN\"\n",
        "dictionario[\"año_de_publicación\"] = \"1987\"\n",
        "print(dictionario)"
      ]
    },
    {
      "cell_type": "code",
      "source": [
        "libreria = [\"Amanda\", \"M. Lola\", \"ES\", \"2001\"]\n",
        "print(libreria)\n"
      ],
      "metadata": {
        "colab": {
          "base_uri": "https://localhost:8080/"
        },
        "id": "i04eefohDepN",
        "outputId": "0c07fec6-3e21-4f68-b7a5-da9745c9d8aa"
      },
      "execution_count": 112,
      "outputs": [
        {
          "output_type": "stream",
          "name": "stdout",
          "text": [
            "['Amanda', 'M. Lola', 'ES', '2001']\n"
          ]
        }
      ]
    },
    {
      "cell_type": "code",
      "source": [
        "libreria.append(\"libro1\")\n",
        "print(libreria)"
      ],
      "metadata": {
        "colab": {
          "base_uri": "https://localhost:8080/"
        },
        "id": "64RjgH4QIZDz",
        "outputId": "80c7b6e1-4af7-4a79-b265-577426cc744c"
      },
      "execution_count": 118,
      "outputs": [
        {
          "output_type": "stream",
          "name": "stdout",
          "text": [
            "['Amanda', 'M. Lola', 'ES', '2001', 'libro1']\n"
          ]
        }
      ]
    },
    {
      "cell_type": "code",
      "source": [
        "dictionario[\"titulo\"] = \"Maravilla\"\n",
        "dictionario[\"autor\"] = \"M. Lola\"\n",
        "dictionario[\"idioma_original\"] = \"FR\"\n",
        "dictionario[\"año_de_publicación\"] = \"1993\"\n",
        "for i in dictionario:\n",
        "  print(i,\":\",dictionario[i])"
      ],
      "metadata": {
        "colab": {
          "base_uri": "https://localhost:8080/",
          "height": 211
        },
        "id": "-r7KfzaWEHIf",
        "outputId": "17571edf-0bdf-4cd6-b259-62b6c7a955d7"
      },
      "execution_count": 121,
      "outputs": [
        {
          "output_type": "error",
          "ename": "TypeError",
          "evalue": "'set' object does not support item assignment",
          "traceback": [
            "\u001b[0;31m---------------------------------------------------------------------------\u001b[0m",
            "\u001b[0;31mTypeError\u001b[0m                                 Traceback (most recent call last)",
            "\u001b[0;32m<ipython-input-121-5e278e527ae5>\u001b[0m in \u001b[0;36m<cell line: 0>\u001b[0;34m()\u001b[0m\n\u001b[0;32m----> 1\u001b[0;31m \u001b[0mdictionario\u001b[0m\u001b[0;34m[\u001b[0m\u001b[0;34m\"titulo\"\u001b[0m\u001b[0;34m]\u001b[0m \u001b[0;34m=\u001b[0m \u001b[0;34m\"Maravilla\"\u001b[0m\u001b[0;34m\u001b[0m\u001b[0;34m\u001b[0m\u001b[0m\n\u001b[0m\u001b[1;32m      2\u001b[0m \u001b[0mdictionario\u001b[0m\u001b[0;34m[\u001b[0m\u001b[0;34m\"autor\"\u001b[0m\u001b[0;34m]\u001b[0m \u001b[0;34m=\u001b[0m \u001b[0;34m\"M. Lola\"\u001b[0m\u001b[0;34m\u001b[0m\u001b[0;34m\u001b[0m\u001b[0m\n\u001b[1;32m      3\u001b[0m \u001b[0mdictionario\u001b[0m\u001b[0;34m[\u001b[0m\u001b[0;34m\"idioma_original\"\u001b[0m\u001b[0;34m]\u001b[0m \u001b[0;34m=\u001b[0m \u001b[0;34m\"FR\"\u001b[0m\u001b[0;34m\u001b[0m\u001b[0;34m\u001b[0m\u001b[0m\n\u001b[1;32m      4\u001b[0m \u001b[0mdictionario\u001b[0m\u001b[0;34m[\u001b[0m\u001b[0;34m\"año_de_publicación\"\u001b[0m\u001b[0;34m]\u001b[0m \u001b[0;34m=\u001b[0m \u001b[0;34m\"1993\"\u001b[0m\u001b[0;34m\u001b[0m\u001b[0;34m\u001b[0m\u001b[0m\n\u001b[1;32m      5\u001b[0m \u001b[0;32mfor\u001b[0m \u001b[0mi\u001b[0m \u001b[0;32min\u001b[0m \u001b[0mdictionario\u001b[0m\u001b[0;34m:\u001b[0m\u001b[0;34m\u001b[0m\u001b[0;34m\u001b[0m\u001b[0m\n",
            "\u001b[0;31mTypeError\u001b[0m: 'set' object does not support item assignment"
          ]
        }
      ]
    },
    {
      "cell_type": "code",
      "source": [
        "dict = {}\n",
        "dict[\"Amanda\"] = \"\"\n",
        "dict[\"Maravilla\"] = \"\"\n",
        "dict[\"En el oeste\"]= \"\"\n",
        "dict[\"Aprendo Python\"]= \"\"\n",
        "print(dict)"
      ],
      "metadata": {
        "colab": {
          "base_uri": "https://localhost:8080/"
        },
        "id": "p-G1Vx0nGJ8A",
        "outputId": "cb7dbfd4-c523-443c-d439-0296dbfe89dc"
      },
      "execution_count": 29,
      "outputs": [
        {
          "output_type": "stream",
          "name": "stdout",
          "text": [
            "{'Amanda': '', 'Maravilla': '', 'En el oeste': '', 'Aprendo Python': ''}\n"
          ]
        }
      ]
    },
    {
      "cell_type": "markdown",
      "metadata": {
        "id": "FCk-PnYUWr4r"
      },
      "source": [
        "## Ejercicio 8\n",
        "Modifica los valores del idioma de todos los libros del ejercicio anterior para que sea \"esperanto\"\n"
      ]
    },
    {
      "cell_type": "code",
      "source": [
        "dict['idioma_original'] = \"esperanto\", \"esperanto\", \"esperanto\", \"esperanto\"\n",
        "for i in dict:\n",
        "  print(i,\":\",dict[i])"
      ],
      "metadata": {
        "colab": {
          "base_uri": "https://localhost:8080/"
        },
        "id": "1F6FkNbaDdo2",
        "outputId": "7b2d6bf4-a083-4135-b117-1908d74212d3"
      },
      "execution_count": 46,
      "outputs": [
        {
          "output_type": "stream",
          "name": "stdout",
          "text": [
            "titulo : ('Amanda', 'Maravilla', 'En el oeste', 'Aprendo Python')\n",
            "autro : ('M. Lola', 'J.Kennyth', 'A.Fortosa', 'J.Van Tussen')\n",
            "idioma_original : ('esperanto', 'esperanto', 'esperanto', 'esperanto')\n",
            "año_de_publicación : ('1993', '2004', '2025', '2011')\n"
          ]
        }
      ]
    },
    {
      "cell_type": "code",
      "execution_count": null,
      "metadata": {
        "id": "6Ou6N7nXWr4s"
      },
      "outputs": [],
      "source": []
    },
    {
      "cell_type": "markdown",
      "metadata": {
        "id": "bUmCItTFWr4s"
      },
      "source": [
        "## Ejercicio 9\n",
        "1. Escribe un programa que dada una variable titulo busque los libros que hay en la librería con ese título. Si no se encuentra debe devolver el mensaje `Ese no lo tengo, ¿mola?`\n",
        "2. Pruena que el programa con uno de tus libros y con otro que no contenga tu librería."
      ]
    },
    {
      "cell_type": "code",
      "execution_count": 69,
      "metadata": {
        "colab": {
          "base_uri": "https://localhost:8080/",
          "height": 211
        },
        "id": "Z1zdqdrYWr4s",
        "outputId": "e6fb47b9-7e5e-408f-9e8a-4971313c0795"
      },
      "outputs": [
        {
          "output_type": "error",
          "ename": "TypeError",
          "evalue": "dict.values() takes no arguments (1 given)",
          "traceback": [
            "\u001b[0;31m---------------------------------------------------------------------------\u001b[0m",
            "\u001b[0;31mTypeError\u001b[0m                                 Traceback (most recent call last)",
            "\u001b[0;32m<ipython-input-69-169560253662>\u001b[0m in \u001b[0;36m<cell line: 0>\u001b[0;34m()\u001b[0m\n\u001b[1;32m      1\u001b[0m \u001b[0mtitulo\u001b[0m \u001b[0;34m=\u001b[0m \u001b[0;34m\"Try\"\u001b[0m\u001b[0;34m\u001b[0m\u001b[0;34m\u001b[0m\u001b[0m\n\u001b[0;32m----> 2\u001b[0;31m \u001b[0;32mif\u001b[0m \u001b[0mdictionario\u001b[0m\u001b[0;34m.\u001b[0m\u001b[0mvalues\u001b[0m\u001b[0;34m(\u001b[0m\u001b[0mtitulo\u001b[0m\u001b[0;34m)\u001b[0m\u001b[0;34m:\u001b[0m\u001b[0;34m\u001b[0m\u001b[0;34m\u001b[0m\u001b[0m\n\u001b[0m\u001b[1;32m      3\u001b[0m   \u001b[0mprint\u001b[0m\u001b[0;34m(\u001b[0m\u001b[0mtitulo\u001b[0m\u001b[0;34m)\u001b[0m\u001b[0;34m\u001b[0m\u001b[0;34m\u001b[0m\u001b[0m\n\u001b[1;32m      4\u001b[0m \u001b[0;32melse\u001b[0m\u001b[0;34m:\u001b[0m\u001b[0;34m\u001b[0m\u001b[0;34m\u001b[0m\u001b[0m\n\u001b[1;32m      5\u001b[0m     \u001b[0mprint\u001b[0m\u001b[0;34m(\u001b[0m\u001b[0;34m\"Esto no lo tengo, ¿mola?\"\u001b[0m\u001b[0;34m)\u001b[0m\u001b[0;34m\u001b[0m\u001b[0;34m\u001b[0m\u001b[0m\n",
            "\u001b[0;31mTypeError\u001b[0m: dict.values() takes no arguments (1 given)"
          ]
        }
      ],
      "source": [
        "titulo = \"Try\"\n",
        "if dictionario.values(titulo):\n",
        "  print(titulo)\n",
        "else:\n",
        "    print(\"Esto no lo tengo, ¿mola?\")\n"
      ]
    },
    {
      "cell_type": "markdown",
      "metadata": {
        "id": "YAQiRxGJWr4s"
      },
      "source": [
        "## Ejercicio 10\n",
        "Convierte el programa del ejercicio 2 en una función al que se le pase el valor a buscar como un argumento posicional"
      ]
    },
    {
      "cell_type": "code",
      "execution_count": null,
      "metadata": {
        "id": "xnbMWYQ1Wr4s"
      },
      "outputs": [],
      "source": []
    },
    {
      "cell_type": "markdown",
      "metadata": {
        "id": "rVtjf4o5Wr4s"
      },
      "source": [
        "## Ejercicio 11\n",
        "Convierte el programa del ejercicio 9 en una función al que se le pasen como argumentos la librería, posicional, y el título, argumento keyword con valor \"ninguno\", por defecto."
      ]
    },
    {
      "cell_type": "code",
      "execution_count": null,
      "metadata": {
        "id": "346vS0GCWr4s"
      },
      "outputs": [],
      "source": []
    },
    {
      "cell_type": "markdown",
      "metadata": {
        "id": "iftfFjOnWr4s"
      },
      "source": [
        "## Ejercicio 12\n",
        "Solicitar al usuario que ingrese su dirección email. Imprimir un mensaje indicando si la dirección es válida o no, valiéndose de una función para decidirlo. Una dirección se considerará válida si contiene el símbolo \"@\"."
      ]
    },
    {
      "cell_type": "code",
      "execution_count": 101,
      "metadata": {
        "colab": {
          "base_uri": "https://localhost:8080/"
        },
        "id": "Pukx5q-0Wr4s",
        "outputId": "44a3dcc2-4b74-4fa4-8c99-0dd481aec67b"
      },
      "outputs": [
        {
          "output_type": "stream",
          "name": "stdout",
          "text": [
            "Introduzca tu email: sfdds@sdgf\n",
            "dirección valida\n"
          ]
        }
      ],
      "source": [
        "primer_mensaje = input(\"Introduzca tu email: \")\n",
        "for n in primer_mensaje:\n",
        "  if primer_mensaje.index(\"@\"):\n",
        "    print(\"dirección valida\")\n",
        "    break\n",
        "  else:\n",
        "    print(\"dirección NO valida\")\n",
        "\n"
      ]
    },
    {
      "cell_type": "code",
      "source": [
        "primer_mensaje = input(\"Introduzca tu email: \")\n",
        "for n in primer_mensaje:\n",
        "  if n == \"@\":\n",
        "    print(\"dirección valida\")\n",
        "    break\n",
        "  else:\n",
        "    print(\"dirección NO valida\")\n",
        "    break"
      ],
      "metadata": {
        "colab": {
          "base_uri": "https://localhost:8080/"
        },
        "id": "p-VEk3mfS80i",
        "outputId": "50ebc8a0-3afa-45a1-81b6-6e3b4e3e1078"
      },
      "execution_count": 93,
      "outputs": [
        {
          "output_type": "stream",
          "name": "stdout",
          "text": [
            "Introduzca tu email: fdg@sdfs\n",
            "dirección NO valida\n"
          ]
        }
      ]
    },
    {
      "cell_type": "markdown",
      "metadata": {
        "id": "7405pL2GWr4s"
      },
      "source": [
        "## Ejercicio 13\n",
        "Escribe una función que compruebe si un DNI es válido, devolviendo `True` en caso afirmativo.  \n",
        "En primer lugar, el DNI debe tener entre 7 y 8 dígitos numéricos.  \n",
        "Para saber si la letra del DNI es correcta puedes utilizar el siguiente fragmento de código:\n",
        ">```Python\n",
        ">DNI= 55555555\n",
        ">palabra='TRWAGMYFPDXBNJZSQVHLCKE'\n",
        ">print('La letra del DNI es: ', palabra[DNI%23])\n",
        ">````\n"
      ]
    },
    {
      "cell_type": "code",
      "execution_count": 22,
      "metadata": {
        "id": "lwxjCz9rWr4s"
      },
      "outputs": [],
      "source": [
        "def validacion(DNI):\n",
        " if 7 < count.DNI < 8:\n",
        "    return True\n",
        "    print(True)\n",
        "\n",
        " validacion(x6128276h)"
      ]
    },
    {
      "cell_type": "code",
      "source": [
        "DNI = 55555555\n",
        "caracteres = count.DNI(n)\n",
        "print(caracteres)"
      ],
      "metadata": {
        "colab": {
          "base_uri": "https://localhost:8080/",
          "height": 176
        },
        "id": "CELK6q9V0-to",
        "outputId": "c3c2f6a0-d03e-4a95-83e2-0bfb5a1ad488"
      },
      "execution_count": 29,
      "outputs": [
        {
          "output_type": "error",
          "ename": "NameError",
          "evalue": "name 'count' is not defined",
          "traceback": [
            "\u001b[0;31m---------------------------------------------------------------------------\u001b[0m",
            "\u001b[0;31mNameError\u001b[0m                                 Traceback (most recent call last)",
            "\u001b[0;32m<ipython-input-29-f151f9cba07c>\u001b[0m in \u001b[0;36m<cell line: 0>\u001b[0;34m()\u001b[0m\n\u001b[1;32m      1\u001b[0m \u001b[0mDNI\u001b[0m \u001b[0;34m=\u001b[0m \u001b[0;34m\"55555555\"\u001b[0m\u001b[0;34m\u001b[0m\u001b[0;34m\u001b[0m\u001b[0m\n\u001b[0;32m----> 2\u001b[0;31m \u001b[0mcaracteres\u001b[0m \u001b[0;34m=\u001b[0m \u001b[0mcount\u001b[0m\u001b[0;34m.\u001b[0m\u001b[0mDNI\u001b[0m\u001b[0;34m(\u001b[0m\u001b[0mn\u001b[0m\u001b[0;34m)\u001b[0m\u001b[0;34m\u001b[0m\u001b[0;34m\u001b[0m\u001b[0m\n\u001b[0m\u001b[1;32m      3\u001b[0m \u001b[0mprint\u001b[0m\u001b[0;34m(\u001b[0m\u001b[0mcaracteres\u001b[0m\u001b[0;34m)\u001b[0m\u001b[0;34m\u001b[0m\u001b[0;34m\u001b[0m\u001b[0m\n",
            "\u001b[0;31mNameError\u001b[0m: name 'count' is not defined"
          ]
        }
      ]
    },
    {
      "cell_type": "code",
      "source": [
        "DNI= 55555555\n",
        "palabra='TRWAGMYFPDXBNJZSQVHLCKE'\n",
        "print('La letra del DNI es: ', palabra[DNI%23])"
      ],
      "metadata": {
        "colab": {
          "base_uri": "https://localhost:8080/"
        },
        "id": "sUaSebITcjKf",
        "outputId": "cc23e9ac-adf3-4ee5-b71c-0a430236c397"
      },
      "execution_count": 15,
      "outputs": [
        {
          "output_type": "stream",
          "name": "stdout",
          "text": [
            "La letra del DNI es:  K\n"
          ]
        }
      ]
    }
  ],
  "metadata": {
    "language_info": {
      "name": "python"
    },
    "orig_nbformat": 4,
    "colab": {
      "provenance": []
    },
    "kernelspec": {
      "name": "python3",
      "display_name": "Python 3"
    }
  },
  "nbformat": 4,
  "nbformat_minor": 0
}